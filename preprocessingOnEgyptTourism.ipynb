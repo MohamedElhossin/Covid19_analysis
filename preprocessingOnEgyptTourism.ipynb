{
  "nbformat": 4,
  "nbformat_minor": 0,
  "metadata": {
    "colab": {
      "name": "preprocessingOnEgyptTourism.ipynb",
      "provenance": [],
      "collapsed_sections": [],
      "authorship_tag": "ABX9TyOoxIybGXLS71yEiNQQAbhh",
      "include_colab_link": true
    },
    "kernelspec": {
      "name": "python3",
      "display_name": "Python 3"
    },
    "accelerator": "GPU"
  },
  "cells": [
    {
      "cell_type": "markdown",
      "metadata": {
        "id": "view-in-github",
        "colab_type": "text"
      },
      "source": [
        "<a href=\"https://colab.research.google.com/github/MohamedElhossin/Covid19_analysis/blob/master/preprocessingOnEgyptTourism.ipynb\" target=\"_parent\"><img src=\"https://colab.research.google.com/assets/colab-badge.svg\" alt=\"Open In Colab\"/></a>"
      ]
    },
    {
      "cell_type": "code",
      "metadata": {
        "id": "XsZdkYvfQlA7",
        "colab_type": "code",
        "colab": {}
      },
      "source": [
        "import pandas as pd\n",
        "import numpy as np\n",
        "import folium\n",
        "import matplotlib.pyplot as plt\n",
        "from matplotlib.patches import Patch\n",
        "from matplotlib.lines import Line2D\n",
        "import plotly.graph_objects as go\n",
        "import os\n"
      ],
      "execution_count": null,
      "outputs": []
    },
    {
      "cell_type": "code",
      "metadata": {
        "id": "AaKdZ27tQtmw",
        "colab_type": "code",
        "colab": {
          "base_uri": "https://localhost:8080/",
          "height": 34
        },
        "outputId": "dad6dab3-4c0e-4298-fd76-b50cc40fb4e0"
      },
      "source": [
        "from google.colab import drive\n",
        "drive.mount('/content/gdrive')"
      ],
      "execution_count": null,
      "outputs": [
        {
          "output_type": "stream",
          "text": [
            "Drive already mounted at /content/gdrive; to attempt to forcibly remount, call drive.mount(\"/content/gdrive\", force_remount=True).\n"
          ],
          "name": "stdout"
        }
      ]
    },
    {
      "cell_type": "markdown",
      "metadata": {
        "id": "kG1jLzmQRJVO",
        "colab_type": "text"
      },
      "source": [
        "# **Import the datasets**"
      ]
    },
    {
      "cell_type": "code",
      "metadata": {
        "id": "u2l3Ij_qQ3bW",
        "colab_type": "code",
        "colab": {}
      },
      "source": [
        "egypt_dataset = pd.read_excel('/content/gdrive/My Drive/Launchpad C5/data/egypt.xlsx')\n",
        "sars_dataset = pd.read_csv('/content/gdrive/My Drive/Launchpad C5/data/sars_2003_complete_dataset_clean.csv') \n",
        "ebola_dataset = pd.read_csv('/content/gdrive/My Drive/Launchpad C5/data/ebola_2014_2016_clean.csv')\n",
        "covid_dataset = pd.read_csv('/content/gdrive/My Drive/Launchpad C5/data/covid_19_data.csv')"
      ],
      "execution_count": null,
      "outputs": []
    },
    {
      "cell_type": "markdown",
      "metadata": {
        "id": "UlPftqGURSJ9",
        "colab_type": "text"
      },
      "source": [
        "# **Preprocessing on sars datasets**"
      ]
    },
    {
      "cell_type": "code",
      "metadata": {
        "id": "hzRRs-EVRCFu",
        "colab_type": "code",
        "colab": {
          "base_uri": "https://localhost:8080/",
          "height": 197
        },
        "outputId": "5b5dcb79-9050-4728-ee3a-2e74358c5948"
      },
      "source": [
        "# rename the columns names \n",
        "\n",
        "sars_dataset.rename(columns = {'Cumulative number of case(s)' : 'Confirmed' , 'Number of deaths' : 'Deaths' , 'Number recovered' : 'Recovered'} , inplace=True)\n",
        "\n",
        "# group dataset by data\n",
        "\n",
        "sars_dataset['Date'] = pd.to_datetime(sars_dataset['Date']).dt.date\n",
        "sars_dataset_grouped = sars_dataset.groupby(['Date', 'Country]')['Confirmed' , 'Deaths', 'Recovered'].sum().reset_index()\n",
        "sars_dataset_grouped.head()"
      ],
      "execution_count": null,
      "outputs": [
        {
          "output_type": "execute_result",
          "data": {
            "text/html": [
              "<div>\n",
              "<style scoped>\n",
              "    .dataframe tbody tr th:only-of-type {\n",
              "        vertical-align: middle;\n",
              "    }\n",
              "\n",
              "    .dataframe tbody tr th {\n",
              "        vertical-align: top;\n",
              "    }\n",
              "\n",
              "    .dataframe thead th {\n",
              "        text-align: right;\n",
              "    }\n",
              "</style>\n",
              "<table border=\"1\" class=\"dataframe\">\n",
              "  <thead>\n",
              "    <tr style=\"text-align: right;\">\n",
              "      <th></th>\n",
              "      <th>Date</th>\n",
              "      <th>Confirmed</th>\n",
              "      <th>Deaths</th>\n",
              "      <th>Recovered</th>\n",
              "    </tr>\n",
              "  </thead>\n",
              "  <tbody>\n",
              "    <tr>\n",
              "      <th>0</th>\n",
              "      <td>2003-03-17</td>\n",
              "      <td>167</td>\n",
              "      <td>4</td>\n",
              "      <td>0</td>\n",
              "    </tr>\n",
              "    <tr>\n",
              "      <th>1</th>\n",
              "      <td>2003-03-18</td>\n",
              "      <td>219</td>\n",
              "      <td>4</td>\n",
              "      <td>0</td>\n",
              "    </tr>\n",
              "    <tr>\n",
              "      <th>2</th>\n",
              "      <td>2003-03-19</td>\n",
              "      <td>264</td>\n",
              "      <td>9</td>\n",
              "      <td>0</td>\n",
              "    </tr>\n",
              "    <tr>\n",
              "      <th>3</th>\n",
              "      <td>2003-03-20</td>\n",
              "      <td>306</td>\n",
              "      <td>10</td>\n",
              "      <td>0</td>\n",
              "    </tr>\n",
              "    <tr>\n",
              "      <th>4</th>\n",
              "      <td>2003-03-21</td>\n",
              "      <td>350</td>\n",
              "      <td>10</td>\n",
              "      <td>0</td>\n",
              "    </tr>\n",
              "  </tbody>\n",
              "</table>\n",
              "</div>"
            ],
            "text/plain": [
              "         Date  Confirmed  Deaths  Recovered\n",
              "0  2003-03-17        167       4          0\n",
              "1  2003-03-18        219       4          0\n",
              "2  2003-03-19        264       9          0\n",
              "3  2003-03-20        306      10          0\n",
              "4  2003-03-21        350      10          0"
            ]
          },
          "metadata": {
            "tags": []
          },
          "execution_count": 5
        }
      ]
    },
    {
      "cell_type": "markdown",
      "metadata": {
        "id": "RdmZY_9ZTxrg",
        "colab_type": "text"
      },
      "source": [
        "# **Preprocessing on ebola dataset**"
      ]
    },
    {
      "cell_type": "code",
      "metadata": {
        "id": "tp3MNKC5Twjj",
        "colab_type": "code",
        "colab": {
          "base_uri": "https://localhost:8080/",
          "height": 197
        },
        "outputId": "051d04fa-07bf-44de-db12-d12be2959d58"
      },
      "source": [
        "# select important columns\n",
        "#-->ebola_dataset = ebola_dataset[['Date', 'Country', 'No. of confirmed, probable and suspected cases', 'No. of confirmed, probable and suspected deaths']]\n",
        "\n",
        "# rename the columns\n",
        "ebola_dataset.rename(columns = {'No. of confirmed, probable and suspected cases' : 'Confirmed', 'No. of confirmed, probable and suspected deaths': 'Deaths'} , inplace=True)\n",
        "\n",
        "\n",
        "# group dataset by date\n",
        "ebola_dataset['Date'] = pd.to_datetime(ebola_dataset['Date']).dt.date\n",
        "ebola_dataset_grouped = ebola_dataset.groupby('Date')['Confirmed' , 'Deaths'].sum().reset_index()\n",
        "\n",
        "# converting datatypes\n",
        "ebola_dataset_grouped['Confirmed'] = ebola_dataset_grouped['Confirmed'].astype('int')\n",
        "ebola_dataset_grouped['Deaths'] = ebola_dataset_grouped['Deaths'].astype('int')\n",
        "ebola_dataset_grouped.head()\n"
      ],
      "execution_count": null,
      "outputs": [
        {
          "output_type": "execute_result",
          "data": {
            "text/html": [
              "<div>\n",
              "<style scoped>\n",
              "    .dataframe tbody tr th:only-of-type {\n",
              "        vertical-align: middle;\n",
              "    }\n",
              "\n",
              "    .dataframe tbody tr th {\n",
              "        vertical-align: top;\n",
              "    }\n",
              "\n",
              "    .dataframe thead th {\n",
              "        text-align: right;\n",
              "    }\n",
              "</style>\n",
              "<table border=\"1\" class=\"dataframe\">\n",
              "  <thead>\n",
              "    <tr style=\"text-align: right;\">\n",
              "      <th></th>\n",
              "      <th>Date</th>\n",
              "      <th>Confirmed</th>\n",
              "      <th>Deaths</th>\n",
              "    </tr>\n",
              "  </thead>\n",
              "  <tbody>\n",
              "    <tr>\n",
              "      <th>0</th>\n",
              "      <td>2014-08-29</td>\n",
              "      <td>3071</td>\n",
              "      <td>1553</td>\n",
              "    </tr>\n",
              "    <tr>\n",
              "      <th>1</th>\n",
              "      <td>2014-09-05</td>\n",
              "      <td>3967</td>\n",
              "      <td>2105</td>\n",
              "    </tr>\n",
              "    <tr>\n",
              "      <th>2</th>\n",
              "      <td>2014-09-08</td>\n",
              "      <td>4293</td>\n",
              "      <td>2296</td>\n",
              "    </tr>\n",
              "    <tr>\n",
              "      <th>3</th>\n",
              "      <td>2014-09-12</td>\n",
              "      <td>4390</td>\n",
              "      <td>2226</td>\n",
              "    </tr>\n",
              "    <tr>\n",
              "      <th>4</th>\n",
              "      <td>2014-09-16</td>\n",
              "      <td>4985</td>\n",
              "      <td>2461</td>\n",
              "    </tr>\n",
              "  </tbody>\n",
              "</table>\n",
              "</div>"
            ],
            "text/plain": [
              "         Date  Confirmed  Deaths\n",
              "0  2014-08-29       3071    1553\n",
              "1  2014-09-05       3967    2105\n",
              "2  2014-09-08       4293    2296\n",
              "3  2014-09-12       4390    2226\n",
              "4  2014-09-16       4985    2461"
            ]
          },
          "metadata": {
            "tags": []
          },
          "execution_count": 17
        }
      ]
    },
    {
      "cell_type": "markdown",
      "metadata": {
        "id": "6Av8PZ7mXfvS",
        "colab_type": "text"
      },
      "source": [
        "# **Preprocessing on ebola dataset**"
      ]
    },
    {
      "cell_type": "code",
      "metadata": {
        "id": "3Nycsx5lXfH0",
        "colab_type": "code",
        "colab": {
          "base_uri": "https://localhost:8080/",
          "height": 197
        },
        "outputId": "f60cb193-c293-4ae6-ee79-f8d134605b4e"
      },
      "source": [
        "# select important columns\n",
        "#-->covid_dataset = covid_dataset['Date' , 'Country', 'Confirmed', 'Deaths', 'Recovered']\n",
        "\n",
        "# Rename columns\n",
        "covid_dataset.rename(columns= {'Country/Region' : 'Country' , 'Last Update' : 'Date'} , inplace=True)\n",
        "\n",
        "# replace mainland china with china in country columns\n",
        "covid_dataset['Country'].replace('Mainland China' , 'China')\n",
        "\n",
        "# Group dataset by date\n",
        "covid_dataset['Date'] = pd.to_datetime(covid_dataset['Date']).dt.date\n",
        "covid_dataset_grouped = covid_dataset.groupby('Date')['Confirmed' , 'Deaths', 'Recovered'].sum().reset_index()\n",
        "covid_dataset_grouped.head()\n"
      ],
      "execution_count": null,
      "outputs": [
        {
          "output_type": "execute_result",
          "data": {
            "text/html": [
              "<div>\n",
              "<style scoped>\n",
              "    .dataframe tbody tr th:only-of-type {\n",
              "        vertical-align: middle;\n",
              "    }\n",
              "\n",
              "    .dataframe tbody tr th {\n",
              "        vertical-align: top;\n",
              "    }\n",
              "\n",
              "    .dataframe thead th {\n",
              "        text-align: right;\n",
              "    }\n",
              "</style>\n",
              "<table border=\"1\" class=\"dataframe\">\n",
              "  <thead>\n",
              "    <tr style=\"text-align: right;\">\n",
              "      <th></th>\n",
              "      <th>Date</th>\n",
              "      <th>Confirmed</th>\n",
              "      <th>Deaths</th>\n",
              "      <th>Recovered</th>\n",
              "    </tr>\n",
              "  </thead>\n",
              "  <tbody>\n",
              "    <tr>\n",
              "      <th>0</th>\n",
              "      <td>2020-01-22</td>\n",
              "      <td>555.0</td>\n",
              "      <td>17.0</td>\n",
              "      <td>28.0</td>\n",
              "    </tr>\n",
              "    <tr>\n",
              "      <th>1</th>\n",
              "      <td>2020-01-23</td>\n",
              "      <td>653.0</td>\n",
              "      <td>18.0</td>\n",
              "      <td>30.0</td>\n",
              "    </tr>\n",
              "    <tr>\n",
              "      <th>2</th>\n",
              "      <td>2020-01-24</td>\n",
              "      <td>941.0</td>\n",
              "      <td>26.0</td>\n",
              "      <td>36.0</td>\n",
              "    </tr>\n",
              "    <tr>\n",
              "      <th>3</th>\n",
              "      <td>2020-01-25</td>\n",
              "      <td>1438.0</td>\n",
              "      <td>42.0</td>\n",
              "      <td>39.0</td>\n",
              "    </tr>\n",
              "    <tr>\n",
              "      <th>4</th>\n",
              "      <td>2020-01-26</td>\n",
              "      <td>2118.0</td>\n",
              "      <td>56.0</td>\n",
              "      <td>52.0</td>\n",
              "    </tr>\n",
              "  </tbody>\n",
              "</table>\n",
              "</div>"
            ],
            "text/plain": [
              "         Date  Confirmed  Deaths  Recovered\n",
              "0  2020-01-22      555.0    17.0       28.0\n",
              "1  2020-01-23      653.0    18.0       30.0\n",
              "2  2020-01-24      941.0    26.0       36.0\n",
              "3  2020-01-25     1438.0    42.0       39.0\n",
              "4  2020-01-26     2118.0    56.0       52.0"
            ]
          },
          "metadata": {
            "tags": []
          },
          "execution_count": 18
        }
      ]
    },
    {
      "cell_type": "markdown",
      "metadata": {
        "id": "CAJnhrqGfj3j",
        "colab_type": "text"
      },
      "source": [
        "# **Preprocessing on tourims Egypt dataset**"
      ]
    },
    {
      "cell_type": "code",
      "metadata": {
        "id": "d-QzCDdEfwXo",
        "colab_type": "code",
        "colab": {
          "base_uri": "https://localhost:8080/",
          "height": 197
        },
        "outputId": "1394742f-c8dc-434b-80fe-74c264a1290c"
      },
      "source": [
        "# Group dataset by date\n",
        "egypt_dataset['Date'] = pd.to_datetime(egypt_dataset['Date']).dt.date\n",
        "egypt_dataset_grouped = egypt_dataset.groupby('Date')['Number'].sum().reset_index()\n",
        "egypt_dataset_grouped.head()"
      ],
      "execution_count": null,
      "outputs": [
        {
          "output_type": "execute_result",
          "data": {
            "text/html": [
              "<div>\n",
              "<style scoped>\n",
              "    .dataframe tbody tr th:only-of-type {\n",
              "        vertical-align: middle;\n",
              "    }\n",
              "\n",
              "    .dataframe tbody tr th {\n",
              "        vertical-align: top;\n",
              "    }\n",
              "\n",
              "    .dataframe thead th {\n",
              "        text-align: right;\n",
              "    }\n",
              "</style>\n",
              "<table border=\"1\" class=\"dataframe\">\n",
              "  <thead>\n",
              "    <tr style=\"text-align: right;\">\n",
              "      <th></th>\n",
              "      <th>Date</th>\n",
              "      <th>Number</th>\n",
              "    </tr>\n",
              "  </thead>\n",
              "  <tbody>\n",
              "    <tr>\n",
              "      <th>0</th>\n",
              "      <td>2003-01-01</td>\n",
              "      <td>401000</td>\n",
              "    </tr>\n",
              "    <tr>\n",
              "      <th>1</th>\n",
              "      <td>2003-02-01</td>\n",
              "      <td>427000</td>\n",
              "    </tr>\n",
              "    <tr>\n",
              "      <th>2</th>\n",
              "      <td>2003-03-01</td>\n",
              "      <td>356000</td>\n",
              "    </tr>\n",
              "    <tr>\n",
              "      <th>3</th>\n",
              "      <td>2003-04-01</td>\n",
              "      <td>363000</td>\n",
              "    </tr>\n",
              "    <tr>\n",
              "      <th>4</th>\n",
              "      <td>2003-05-01</td>\n",
              "      <td>319000</td>\n",
              "    </tr>\n",
              "  </tbody>\n",
              "</table>\n",
              "</div>"
            ],
            "text/plain": [
              "         Date  Number\n",
              "0  2003-01-01  401000\n",
              "1  2003-02-01  427000\n",
              "2  2003-03-01  356000\n",
              "3  2003-04-01  363000\n",
              "4  2003-05-01  319000"
            ]
          },
          "metadata": {
            "tags": []
          },
          "execution_count": 19
        }
      ]
    },
    {
      "cell_type": "code",
      "metadata": {
        "id": "2NTZCToza-KK",
        "colab_type": "code",
        "colab": {
          "base_uri": "https://localhost:8080/",
          "height": 542
        },
        "outputId": "764362ab-327a-4817-bb09-1b3de75351fa"
      },
      "source": [
        "fig = go.Figure()\n",
        "\n",
        "fig.add_trace(go.Scatter( \n",
        "                 x = sars_dataset_grouped['Date'] , \n",
        "                 y = sars_dataset_grouped['Deaths'],\n",
        "                 name = 'sars',\n",
        "                 line_color = 'red',\n",
        "                 opacity = 0.5))\n",
        "\n",
        "fig.add_trace(go.Scatter( \n",
        "                 x = ebola_dataset_grouped['Date'] , \n",
        "                 y = ebola_dataset_grouped['Deaths'],\n",
        "                 name = 'ebola',\n",
        "                 line_color = 'black',\n",
        "                 opacity = 0.5))\n",
        "\n",
        "\n",
        "fig.add_trace(go.Scatter( \n",
        "                 x = covid_dataset_grouped['Date'] , \n",
        "                 y = covid_dataset_grouped['Deaths'],\n",
        "                 name = 'covid',\n",
        "                 line_color = 'blue',\n",
        "                 opacity = 0.5))\n",
        "\n",
        "\n",
        "\n",
        "\n",
        "fig.update_layout(\n",
        "                  title_text=\"Death cases per month\",\n",
        "                  xaxis_rangeslider_visible=True)\n",
        "fig.show()\n"
      ],
      "execution_count": null,
      "outputs": [
        {
          "output_type": "display_data",
          "data": {
            "text/html": [
              "<html>\n",
              "<head><meta charset=\"utf-8\" /></head>\n",
              "<body>\n",
              "    <div>\n",
              "            <script src=\"https://cdnjs.cloudflare.com/ajax/libs/mathjax/2.7.5/MathJax.js?config=TeX-AMS-MML_SVG\"></script><script type=\"text/javascript\">if (window.MathJax) {MathJax.Hub.Config({SVG: {font: \"STIX-Web\"}});}</script>\n",
              "                <script type=\"text/javascript\">window.PlotlyConfig = {MathJaxConfig: 'local'};</script>\n",
              "        <script src=\"https://cdn.plot.ly/plotly-latest.min.js\"></script>    \n",
              "            <div id=\"fd9dd17c-c496-4904-a722-052ed6fe1fa2\" class=\"plotly-graph-div\" style=\"height:525px; width:100%;\"></div>\n",
              "            <script type=\"text/javascript\">\n",
              "                \n",
              "                    window.PLOTLYENV=window.PLOTLYENV || {};\n",
              "                    \n",
              "                if (document.getElementById(\"fd9dd17c-c496-4904-a722-052ed6fe1fa2\")) {\n",
              "                    Plotly.newPlot(\n",
              "                        'fd9dd17c-c496-4904-a722-052ed6fe1fa2',\n",
              "                        [{\"line\": {\"color\": \"red\"}, \"name\": \"sars\", \"opacity\": 0.5, \"type\": \"scatter\", \"x\": [\"2003-03-17\", \"2003-03-18\", \"2003-03-19\", \"2003-03-20\", \"2003-03-21\", \"2003-03-22\", \"2003-03-24\", \"2003-03-25\", \"2003-03-26\", \"2003-03-27\", \"2003-03-28\", \"2003-03-29\", \"2003-03-31\", \"2003-04-01\", \"2003-04-02\", \"2003-04-03\", \"2003-04-04\", \"2003-04-05\", \"2003-04-07\", \"2003-04-08\", \"2003-04-09\", \"2003-04-10\", \"2003-04-11\", \"2003-04-12\", \"2003-04-14\", \"2003-04-15\", \"2003-04-16\", \"2003-04-17\", \"2003-04-18\", \"2003-04-19\", \"2003-04-21\", \"2003-04-22\", \"2003-04-23\", \"2003-04-24\", \"2003-04-25\", \"2003-04-26\", \"2003-04-28\", \"2003-04-29\", \"2003-04-30\", \"2003-05-01\", \"2003-05-02\", \"2003-05-03\", \"2003-05-05\", \"2003-05-06\", \"2003-05-07\", \"2003-05-08\", \"2003-05-09\", \"2003-05-10\", \"2003-05-12\", \"2003-05-13\", \"2003-05-14\", \"2003-05-15\", \"2003-05-16\", \"2003-05-17\", \"2003-05-19\", \"2003-05-20\", \"2003-05-21\", \"2003-05-22\", \"2003-05-23\", \"2003-05-24\", \"2003-05-26\", \"2003-05-27\", \"2003-05-28\", \"2003-05-29\", \"2003-05-30\", \"2003-05-31\", \"2003-06-02\", \"2003-06-03\", \"2003-06-04\", \"2003-06-05\", \"2003-06-06\", \"2003-06-09\", \"2003-06-10\", \"2003-06-11\", \"2003-06-12\", \"2003-06-13\", \"2003-06-16\", \"2003-06-17\", \"2003-06-18\", \"2003-06-19\", \"2003-06-20\", \"2003-06-23\", \"2003-06-24\", \"2003-06-25\", \"2003-06-26\", \"2003-06-27\", \"2003-06-30\", \"2003-07-01\", \"2003-07-02\", \"2003-07-03\", \"2003-07-04\", \"2003-07-07\", \"2003-07-08\", \"2003-07-09\", \"2003-07-10\", \"2003-07-11\"], \"y\": [4, 4, 9, 10, 10, 11, 17, 17, 49, 53, 53, 54, 58, 62, 78, 79, 84, 89, 98, 103, 106, 111, 116, 119, 144, 154, 159, 165, 182, 182, 217, 229, 251, 263, 274, 293, 321, 353, 372, 391, 417, 435, 461, 478, 495, 506, 514, 526, 552, 573, 587, 598, 611, 623, 643, 662, 666, 682, 689, 696, 725, 735, 745, 750, 754, 764, 770, 772, 772, 775, 779, 784, 789, 789, 790, 792, 799, 799, 801, 804, 804, 805, 807, 808, 809, 810, 811, 812, 812, 812, 812, 812, 812, 812, 812, 813]}, {\"line\": {\"color\": \"black\"}, \"name\": \"ebola\", \"opacity\": 0.5, \"type\": \"scatter\", \"x\": [\"2014-08-29\", \"2014-09-05\", \"2014-09-08\", \"2014-09-12\", \"2014-09-16\", \"2014-09-18\", \"2014-09-22\", \"2014-09-24\", \"2014-09-26\", \"2014-10-01\", \"2014-10-03\", \"2014-10-08\", \"2014-10-10\", \"2014-10-15\", \"2014-10-17\", \"2014-10-22\", \"2014-10-25\", \"2014-10-29\", \"2014-10-31\", \"2014-11-05\", \"2014-11-07\", \"2014-11-12\", \"2014-11-14\", \"2014-11-19\", \"2014-11-21\", \"2014-11-26\", \"2014-12-01\", \"2014-12-03\", \"2014-12-10\", \"2014-12-15\", \"2014-12-17\", \"2014-12-22\", \"2014-12-23\", \"2014-12-24\", \"2014-12-26\", \"2014-12-29\", \"2014-12-30\", \"2014-12-31\", \"2015-01-02\", \"2015-01-05\", \"2015-01-06\", \"2015-01-07\", \"2015-01-08\", \"2015-01-09\", \"2015-01-12\", \"2015-01-13\", \"2015-01-14\", \"2015-01-15\", \"2015-01-16\", \"2015-01-19\", \"2015-01-20\", \"2015-01-21\", \"2015-01-22\", \"2015-01-23\", \"2015-01-26\", \"2015-01-27\", \"2015-01-28\", \"2015-01-29\", \"2015-01-30\", \"2015-02-02\", \"2015-02-03\", \"2015-02-04\", \"2015-02-05\", \"2015-02-06\", \"2015-02-10\", \"2015-02-11\", \"2015-02-12\", \"2015-02-13\", \"2015-02-16\", \"2015-02-17\", \"2015-02-18\", \"2015-02-19\", \"2015-02-20\", \"2015-02-23\", \"2015-02-25\", \"2015-02-26\", \"2015-02-27\", \"2015-03-02\", \"2015-03-04\", \"2015-03-05\", \"2015-03-06\", \"2015-03-10\", \"2015-03-11\", \"2015-03-12\", \"2015-03-13\", \"2015-03-16\", \"2015-03-17\", \"2015-03-18\", \"2015-03-20\", \"2015-03-23\", \"2015-03-24\", \"2015-03-25\", \"2015-03-26\", \"2015-03-27\", \"2015-04-07\", \"2015-04-09\", \"2015-04-13\", \"2015-04-14\", \"2015-04-15\", \"2015-04-16\", \"2015-04-17\", \"2015-04-20\", \"2015-04-21\", \"2015-04-22\", \"2015-04-23\", \"2015-04-24\", \"2015-04-27\", \"2015-04-28\", \"2015-04-30\", \"2015-05-01\", \"2015-05-04\", \"2015-05-05\", \"2015-05-06\", \"2015-05-07\", \"2015-05-08\", \"2015-05-11\", \"2015-05-12\", \"2015-05-13\", \"2015-05-14\", \"2015-05-15\", \"2015-05-18\", \"2015-05-19\", \"2015-05-20\", \"2015-05-21\", \"2015-05-22\", \"2015-05-25\", \"2015-05-26\", \"2015-05-27\", \"2015-05-28\", \"2015-05-29\", \"2015-06-01\", \"2015-06-02\", \"2015-06-03\", \"2015-06-04\", \"2015-06-05\", \"2015-06-08\", \"2015-06-09\", \"2015-06-10\", \"2015-06-11\", \"2015-06-12\", \"2015-06-15\", \"2015-06-16\", \"2015-06-17\", \"2015-06-18\", \"2015-06-19\", \"2015-06-22\", \"2015-06-23\", \"2015-06-24\", \"2015-06-25\", \"2015-06-26\", \"2015-06-29\", \"2015-06-30\", \"2015-07-01\", \"2015-07-02\", \"2015-07-03\", \"2015-07-06\", \"2015-07-07\", \"2015-07-08\", \"2015-07-09\", \"2015-07-10\", \"2015-07-13\", \"2015-07-14\", \"2015-07-15\", \"2015-07-16\", \"2015-07-17\", \"2015-07-20\", \"2015-07-21\", \"2015-07-22\", \"2015-07-23\", \"2015-07-24\", \"2015-07-27\", \"2015-07-28\", \"2015-07-29\", \"2015-07-30\", \"2015-07-31\", \"2015-08-03\", \"2015-08-04\", \"2015-08-05\", \"2015-08-06\", \"2015-08-07\", \"2015-08-10\", \"2015-08-11\", \"2015-08-12\", \"2015-08-13\", \"2015-08-14\", \"2015-08-17\", \"2015-08-18\", \"2015-08-19\", \"2015-08-20\", \"2015-08-21\", \"2015-08-24\", \"2015-08-25\", \"2015-08-26\", \"2015-08-27\", \"2015-08-28\", \"2015-08-31\", \"2015-09-01\", \"2015-09-02\", \"2015-09-03\", \"2015-09-04\", \"2015-09-07\", \"2015-09-08\", \"2015-09-09\", \"2015-09-10\", \"2015-09-11\", \"2015-09-14\", \"2015-09-15\", \"2015-09-16\", \"2015-09-17\", \"2015-09-18\", \"2015-09-21\", \"2015-09-22\", \"2015-09-23\", \"2015-09-24\", \"2015-09-25\", \"2015-09-28\", \"2015-09-29\", \"2015-09-30\", \"2015-10-01\", \"2015-10-02\", \"2015-10-05\", \"2015-10-06\", \"2015-10-07\", \"2015-10-08\", \"2015-10-09\", \"2015-10-13\", \"2015-10-15\", \"2015-10-16\", \"2015-10-20\", \"2015-10-22\", \"2015-10-23\", \"2015-10-26\", \"2015-10-27\", \"2015-10-29\", \"2015-10-30\", \"2015-11-03\", \"2015-11-05\", \"2015-11-06\", \"2015-11-10\", \"2015-11-11\", \"2015-11-12\", \"2015-11-16\", \"2015-11-17\", \"2015-11-20\", \"2015-11-24\", \"2015-11-26\", \"2015-12-01\", \"2015-12-02\", \"2015-12-03\", \"2015-12-09\", \"2015-12-10\", \"2015-12-11\", \"2015-12-15\", \"2015-12-16\", \"2015-12-17\", \"2015-12-22\", \"2015-12-23\", \"2015-12-29\", \"2016-03-23\"], \"y\": [1553, 2105, 2296, 2226, 2461, 2630, 2811, 2917, 3091, 3338, 3439, 3865, 4032, 4493, 4555, 4877, 4922, 4920, 4951, 4818, 4960, 5160, 5177, 5420, 5459, 5689, 6002, 6070, 6388, 6856, 6915, 7533, 7580, 7588, 7708, 7857, 7894, 7905, 8004, 8168, 8235, 8235, 8265, 8295, 8377, 8377, 8429, 8459, 8483, 8609, 8641, 8641, 8683, 8690, 8752, 8810, 8810, 8833, 8844, 8936, 8974, 8981, 8994, 9019, 9177, 9177, 9209, 9268, 9368, 9380, 9380, 9452, 9457, 9556, 9604, 9652, 9675, 9729, 9729, 9838, 9855, 9976, 9976, 10019, 10111, 10159, 10194, 10194, 10251, 10314, 10326, 10326, 10353, 10365, 10588, 10599, 10619, 10626, 10704, 10714, 10717, 10730, 10736, 10823, 10835, 10839, 10857, 10899, 10905, 10907, 10910, 10995, 11020, 11022, 11022, 11079, 11080, 11079, 11087, 11089, 11132, 11135, 11135, 11137, 11140, 11147, 11149, 11149, 11155, 11157, 11160, 11162, 11162, 11164, 11164, 11169, 11173, 11173, 11178, 11178, 11183, 11184, 11184, 11188, 11193, 11205, 11222, 11222, 11232, 11232, 11235, 11235, 11235, 11244, 11253, 11260, 11261, 11261, 11268, 11268, 11274, 11276, 11276, 11276, 11279, 11283, 11284, 11284, 11288, 11289, 11293, 11294, 11294, 11295, 11295, 11296, 11296, 11296, 11298, 11298, 11298, 11298, 11298, 11298, 11299, 11299, 11299, 11299, 11301, 11301, 11302, 11302, 11302, 11303, 11303, 11304, 11305, 11305, 11305, 11305, 11306, 11306, 11306, 11306, 11306, 11306, 11306, 11306, 11308, 11309, 11310, 11310, 11310, 11311, 11311, 11311, 11311, 11311, 11311, 11311, 11312, 11312, 11312, 11312, 11312, 11312, 11312, 11313, 11313, 11313, 11313, 11313, 11313, 11314, 11314, 11314, 11314, 11314, 11314, 11314, 11314, 11314, 11314, 11314, 11314, 11314, 11314, 11315, 11315, 11315, 11315, 11315, 11315, 11315, 11315, 11315, 11315, 11315, 11319]}, {\"line\": {\"color\": \"blue\"}, \"name\": \"covid\", \"opacity\": 0.5, \"type\": \"scatter\", \"x\": [\"2020-01-22\", \"2020-01-23\", \"2020-01-24\", \"2020-01-25\", \"2020-01-26\", \"2020-01-27\", \"2020-01-28\", \"2020-01-29\", \"2020-01-30\", \"2020-01-31\", \"2020-02-01\", \"2020-02-02\", \"2020-02-03\", \"2020-02-04\", \"2020-02-05\", \"2020-02-06\", \"2020-02-07\", \"2020-02-08\", \"2020-02-09\", \"2020-02-10\", \"2020-02-11\", \"2020-02-12\", \"2020-02-13\", \"2020-02-14\", \"2020-02-15\", \"2020-02-16\", \"2020-02-17\", \"2020-02-18\", \"2020-02-19\", \"2020-02-20\", \"2020-02-21\", \"2020-02-22\", \"2020-02-23\", \"2020-02-24\", \"2020-02-25\", \"2020-02-26\", \"2020-02-27\", \"2020-02-28\", \"2020-02-29\", \"2020-03-01\", \"2020-03-02\", \"2020-03-03\", \"2020-03-04\", \"2020-03-05\", \"2020-03-06\", \"2020-03-07\", \"2020-03-08\", \"2020-03-09\", \"2020-03-10\", \"2020-03-11\", \"2020-03-12\", \"2020-03-13\", \"2020-03-14\", \"2020-03-15\"], \"y\": [17.0, 18.0, 26.0, 42.0, 56.0, 82.0, 131.0, 133.0, 171.0, 213.0, 259.0, 366.0, 425.0, 491.0, 563.0, 633.0, 723.0, 805.0, 905.0, 1012.0, 1112.0, 1140.0, 1372.0, 1521.0, 1673.0, 1768.0, 1867.0, 2004.0, 2120.0, 2249.0, 2250.0, 2451.0, 2475.0, 2626.0, 2702.0, 2774.0, 2816.0, 2867.0, 2942.0, 2994.0, 3091.0, 3176.0, 3248.0, 3350.0, 3489.0, 3553.0, 3881.0, 3920.0, 4207.0, 7844.0, 3807.0, 3167.0, 7689.0, 4491.0]}],\n",
              "                        {\"template\": {\"data\": {\"bar\": [{\"error_x\": {\"color\": \"#2a3f5f\"}, \"error_y\": {\"color\": \"#2a3f5f\"}, \"marker\": {\"line\": {\"color\": \"#E5ECF6\", \"width\": 0.5}}, \"type\": \"bar\"}], \"barpolar\": [{\"marker\": {\"line\": {\"color\": \"#E5ECF6\", \"width\": 0.5}}, \"type\": \"barpolar\"}], \"carpet\": [{\"aaxis\": {\"endlinecolor\": \"#2a3f5f\", \"gridcolor\": \"white\", \"linecolor\": \"white\", \"minorgridcolor\": \"white\", \"startlinecolor\": \"#2a3f5f\"}, \"baxis\": {\"endlinecolor\": \"#2a3f5f\", \"gridcolor\": \"white\", \"linecolor\": \"white\", \"minorgridcolor\": \"white\", \"startlinecolor\": \"#2a3f5f\"}, \"type\": \"carpet\"}], \"choropleth\": [{\"colorbar\": {\"outlinewidth\": 0, \"ticks\": \"\"}, \"type\": \"choropleth\"}], \"contour\": [{\"colorbar\": {\"outlinewidth\": 0, \"ticks\": \"\"}, \"colorscale\": [[0.0, \"#0d0887\"], [0.1111111111111111, \"#46039f\"], [0.2222222222222222, \"#7201a8\"], [0.3333333333333333, \"#9c179e\"], [0.4444444444444444, \"#bd3786\"], [0.5555555555555556, \"#d8576b\"], [0.6666666666666666, \"#ed7953\"], [0.7777777777777778, \"#fb9f3a\"], [0.8888888888888888, \"#fdca26\"], [1.0, \"#f0f921\"]], \"type\": \"contour\"}], \"contourcarpet\": [{\"colorbar\": {\"outlinewidth\": 0, \"ticks\": \"\"}, \"type\": \"contourcarpet\"}], \"heatmap\": [{\"colorbar\": {\"outlinewidth\": 0, \"ticks\": \"\"}, \"colorscale\": [[0.0, \"#0d0887\"], [0.1111111111111111, \"#46039f\"], [0.2222222222222222, \"#7201a8\"], [0.3333333333333333, \"#9c179e\"], [0.4444444444444444, \"#bd3786\"], [0.5555555555555556, \"#d8576b\"], [0.6666666666666666, \"#ed7953\"], [0.7777777777777778, \"#fb9f3a\"], [0.8888888888888888, \"#fdca26\"], [1.0, \"#f0f921\"]], \"type\": \"heatmap\"}], \"heatmapgl\": [{\"colorbar\": {\"outlinewidth\": 0, \"ticks\": \"\"}, \"colorscale\": [[0.0, \"#0d0887\"], [0.1111111111111111, \"#46039f\"], [0.2222222222222222, \"#7201a8\"], [0.3333333333333333, \"#9c179e\"], [0.4444444444444444, \"#bd3786\"], [0.5555555555555556, \"#d8576b\"], [0.6666666666666666, \"#ed7953\"], [0.7777777777777778, \"#fb9f3a\"], [0.8888888888888888, \"#fdca26\"], [1.0, \"#f0f921\"]], \"type\": \"heatmapgl\"}], \"histogram\": [{\"marker\": {\"colorbar\": {\"outlinewidth\": 0, \"ticks\": \"\"}}, \"type\": \"histogram\"}], \"histogram2d\": [{\"colorbar\": {\"outlinewidth\": 0, \"ticks\": \"\"}, \"colorscale\": [[0.0, \"#0d0887\"], [0.1111111111111111, \"#46039f\"], [0.2222222222222222, \"#7201a8\"], [0.3333333333333333, \"#9c179e\"], [0.4444444444444444, \"#bd3786\"], [0.5555555555555556, \"#d8576b\"], [0.6666666666666666, \"#ed7953\"], [0.7777777777777778, \"#fb9f3a\"], [0.8888888888888888, \"#fdca26\"], [1.0, \"#f0f921\"]], \"type\": \"histogram2d\"}], \"histogram2dcontour\": [{\"colorbar\": {\"outlinewidth\": 0, \"ticks\": \"\"}, \"colorscale\": [[0.0, \"#0d0887\"], [0.1111111111111111, \"#46039f\"], [0.2222222222222222, \"#7201a8\"], [0.3333333333333333, \"#9c179e\"], [0.4444444444444444, \"#bd3786\"], [0.5555555555555556, \"#d8576b\"], [0.6666666666666666, \"#ed7953\"], [0.7777777777777778, \"#fb9f3a\"], [0.8888888888888888, \"#fdca26\"], [1.0, \"#f0f921\"]], \"type\": \"histogram2dcontour\"}], \"mesh3d\": [{\"colorbar\": {\"outlinewidth\": 0, \"ticks\": \"\"}, \"type\": \"mesh3d\"}], \"parcoords\": [{\"line\": {\"colorbar\": {\"outlinewidth\": 0, \"ticks\": \"\"}}, \"type\": \"parcoords\"}], \"pie\": [{\"automargin\": true, \"type\": \"pie\"}], \"scatter\": [{\"marker\": {\"colorbar\": {\"outlinewidth\": 0, \"ticks\": \"\"}}, \"type\": \"scatter\"}], \"scatter3d\": [{\"line\": {\"colorbar\": {\"outlinewidth\": 0, \"ticks\": \"\"}}, \"marker\": {\"colorbar\": {\"outlinewidth\": 0, \"ticks\": \"\"}}, \"type\": \"scatter3d\"}], \"scattercarpet\": [{\"marker\": {\"colorbar\": {\"outlinewidth\": 0, \"ticks\": \"\"}}, \"type\": \"scattercarpet\"}], \"scattergeo\": [{\"marker\": {\"colorbar\": {\"outlinewidth\": 0, \"ticks\": \"\"}}, \"type\": \"scattergeo\"}], \"scattergl\": [{\"marker\": {\"colorbar\": {\"outlinewidth\": 0, \"ticks\": \"\"}}, \"type\": \"scattergl\"}], \"scattermapbox\": [{\"marker\": {\"colorbar\": {\"outlinewidth\": 0, \"ticks\": \"\"}}, \"type\": \"scattermapbox\"}], \"scatterpolar\": [{\"marker\": {\"colorbar\": {\"outlinewidth\": 0, \"ticks\": \"\"}}, \"type\": \"scatterpolar\"}], \"scatterpolargl\": [{\"marker\": {\"colorbar\": {\"outlinewidth\": 0, \"ticks\": \"\"}}, \"type\": \"scatterpolargl\"}], \"scatterternary\": [{\"marker\": {\"colorbar\": {\"outlinewidth\": 0, \"ticks\": \"\"}}, \"type\": \"scatterternary\"}], \"surface\": [{\"colorbar\": {\"outlinewidth\": 0, \"ticks\": \"\"}, \"colorscale\": [[0.0, \"#0d0887\"], [0.1111111111111111, \"#46039f\"], [0.2222222222222222, \"#7201a8\"], [0.3333333333333333, \"#9c179e\"], [0.4444444444444444, \"#bd3786\"], [0.5555555555555556, \"#d8576b\"], [0.6666666666666666, \"#ed7953\"], [0.7777777777777778, \"#fb9f3a\"], [0.8888888888888888, \"#fdca26\"], [1.0, \"#f0f921\"]], \"type\": \"surface\"}], \"table\": [{\"cells\": {\"fill\": {\"color\": \"#EBF0F8\"}, \"line\": {\"color\": \"white\"}}, \"header\": {\"fill\": {\"color\": \"#C8D4E3\"}, \"line\": {\"color\": \"white\"}}, \"type\": \"table\"}]}, \"layout\": {\"annotationdefaults\": {\"arrowcolor\": \"#2a3f5f\", \"arrowhead\": 0, \"arrowwidth\": 1}, \"coloraxis\": {\"colorbar\": {\"outlinewidth\": 0, \"ticks\": \"\"}}, \"colorscale\": {\"diverging\": [[0, \"#8e0152\"], [0.1, \"#c51b7d\"], [0.2, \"#de77ae\"], [0.3, \"#f1b6da\"], [0.4, \"#fde0ef\"], [0.5, \"#f7f7f7\"], [0.6, \"#e6f5d0\"], [0.7, \"#b8e186\"], [0.8, \"#7fbc41\"], [0.9, \"#4d9221\"], [1, \"#276419\"]], \"sequential\": [[0.0, \"#0d0887\"], [0.1111111111111111, \"#46039f\"], [0.2222222222222222, \"#7201a8\"], [0.3333333333333333, \"#9c179e\"], [0.4444444444444444, \"#bd3786\"], [0.5555555555555556, \"#d8576b\"], [0.6666666666666666, \"#ed7953\"], [0.7777777777777778, \"#fb9f3a\"], [0.8888888888888888, \"#fdca26\"], [1.0, \"#f0f921\"]], \"sequentialminus\": [[0.0, \"#0d0887\"], [0.1111111111111111, \"#46039f\"], [0.2222222222222222, \"#7201a8\"], [0.3333333333333333, \"#9c179e\"], [0.4444444444444444, \"#bd3786\"], [0.5555555555555556, \"#d8576b\"], [0.6666666666666666, \"#ed7953\"], [0.7777777777777778, \"#fb9f3a\"], [0.8888888888888888, \"#fdca26\"], [1.0, \"#f0f921\"]]}, \"colorway\": [\"#636efa\", \"#EF553B\", \"#00cc96\", \"#ab63fa\", \"#FFA15A\", \"#19d3f3\", \"#FF6692\", \"#B6E880\", \"#FF97FF\", \"#FECB52\"], \"font\": {\"color\": \"#2a3f5f\"}, \"geo\": {\"bgcolor\": \"white\", \"lakecolor\": \"white\", \"landcolor\": \"#E5ECF6\", \"showlakes\": true, \"showland\": true, \"subunitcolor\": \"white\"}, \"hoverlabel\": {\"align\": \"left\"}, \"hovermode\": \"closest\", \"mapbox\": {\"style\": \"light\"}, \"paper_bgcolor\": \"white\", \"plot_bgcolor\": \"#E5ECF6\", \"polar\": {\"angularaxis\": {\"gridcolor\": \"white\", \"linecolor\": \"white\", \"ticks\": \"\"}, \"bgcolor\": \"#E5ECF6\", \"radialaxis\": {\"gridcolor\": \"white\", \"linecolor\": \"white\", \"ticks\": \"\"}}, \"scene\": {\"xaxis\": {\"backgroundcolor\": \"#E5ECF6\", \"gridcolor\": \"white\", \"gridwidth\": 2, \"linecolor\": \"white\", \"showbackground\": true, \"ticks\": \"\", \"zerolinecolor\": \"white\"}, \"yaxis\": {\"backgroundcolor\": \"#E5ECF6\", \"gridcolor\": \"white\", \"gridwidth\": 2, \"linecolor\": \"white\", \"showbackground\": true, \"ticks\": \"\", \"zerolinecolor\": \"white\"}, \"zaxis\": {\"backgroundcolor\": \"#E5ECF6\", \"gridcolor\": \"white\", \"gridwidth\": 2, \"linecolor\": \"white\", \"showbackground\": true, \"ticks\": \"\", \"zerolinecolor\": \"white\"}}, \"shapedefaults\": {\"line\": {\"color\": \"#2a3f5f\"}}, \"ternary\": {\"aaxis\": {\"gridcolor\": \"white\", \"linecolor\": \"white\", \"ticks\": \"\"}, \"baxis\": {\"gridcolor\": \"white\", \"linecolor\": \"white\", \"ticks\": \"\"}, \"bgcolor\": \"#E5ECF6\", \"caxis\": {\"gridcolor\": \"white\", \"linecolor\": \"white\", \"ticks\": \"\"}}, \"title\": {\"x\": 0.05}, \"xaxis\": {\"automargin\": true, \"gridcolor\": \"white\", \"linecolor\": \"white\", \"ticks\": \"\", \"title\": {\"standoff\": 15}, \"zerolinecolor\": \"white\", \"zerolinewidth\": 2}, \"yaxis\": {\"automargin\": true, \"gridcolor\": \"white\", \"linecolor\": \"white\", \"ticks\": \"\", \"title\": {\"standoff\": 15}, \"zerolinecolor\": \"white\", \"zerolinewidth\": 2}}}, \"title\": {\"text\": \"Death cases per month\"}, \"xaxis\": {\"rangeslider\": {\"visible\": true}}},\n",
              "                        {\"responsive\": true}\n",
              "                    ).then(function(){\n",
              "                            \n",
              "var gd = document.getElementById('fd9dd17c-c496-4904-a722-052ed6fe1fa2');\n",
              "var x = new MutationObserver(function (mutations, observer) {{\n",
              "        var display = window.getComputedStyle(gd).display;\n",
              "        if (!display || display === 'none') {{\n",
              "            console.log([gd, 'removed!']);\n",
              "            Plotly.purge(gd);\n",
              "            observer.disconnect();\n",
              "        }}\n",
              "}});\n",
              "\n",
              "// Listen for the removal of the full notebook cells\n",
              "var notebookContainer = gd.closest('#notebook-container');\n",
              "if (notebookContainer) {{\n",
              "    x.observe(notebookContainer, {childList: true});\n",
              "}}\n",
              "\n",
              "// Listen for the clearing of the current output cell\n",
              "var outputEl = gd.closest('.output');\n",
              "if (outputEl) {{\n",
              "    x.observe(outputEl, {childList: true});\n",
              "}}\n",
              "\n",
              "                        })\n",
              "                };\n",
              "                \n",
              "            </script>\n",
              "        </div>\n",
              "</body>\n",
              "</html>"
            ]
          },
          "metadata": {
            "tags": []
          }
        }
      ]
    },
    {
      "cell_type": "code",
      "metadata": {
        "id": "ma3LkOKedh6Y",
        "colab_type": "code",
        "colab": {
          "base_uri": "https://localhost:8080/",
          "height": 542
        },
        "outputId": "6a823acc-954a-42d2-ec3a-be3eca6d260b"
      },
      "source": [
        "fig = go.Figure()\n",
        "\n",
        "fig.add_trace(go.Scatter( \n",
        "                 x = sars_dataset_grouped['Date'] , \n",
        "                 y = sars_dataset_grouped['Confirmed'],\n",
        "                 name = 'sars',\n",
        "                 line_color = 'red',\n",
        "                 opacity = 0.5))\n",
        "\n",
        "fig.add_trace(go.Scatter( \n",
        "                 x = ebola_dataset_grouped['Date'] , \n",
        "                 y = ebola_dataset_grouped['Confirmed'],\n",
        "                 name = 'ebola',\n",
        "                 line_color = 'black',\n",
        "                 opacity = 0.5))\n",
        "\n",
        "\n",
        "fig.add_trace(go.Scatter( \n",
        "                 x = covid_dataset_grouped['Date'] , \n",
        "                 y = covid_dataset_grouped['Confirmed'],\n",
        "                 name = 'covid',\n",
        "                 line_color = 'blue',\n",
        "                 opacity = 0.5))\n",
        "\n",
        "fig.add_trace(go.Scatter( \n",
        "                 x = egypt_dataset_grouped['Date'] , \n",
        "                 y = egypt_dataset_grouped['Number'],\n",
        "                 name = 'Tourism',\n",
        "                 line_color = 'green',\n",
        "                 opacity = 0.2))\n",
        "\n",
        "fig.update_layout(\n",
        "                  title_text=\"Confirmed cases per month\",\n",
        "                  xaxis_rangeslider_visible=True)\n",
        "fig.show()"
      ],
      "execution_count": null,
      "outputs": [
        {
          "output_type": "display_data",
          "data": {
            "text/html": [
              "<html>\n",
              "<head><meta charset=\"utf-8\" /></head>\n",
              "<body>\n",
              "    <div>\n",
              "            <script src=\"https://cdnjs.cloudflare.com/ajax/libs/mathjax/2.7.5/MathJax.js?config=TeX-AMS-MML_SVG\"></script><script type=\"text/javascript\">if (window.MathJax) {MathJax.Hub.Config({SVG: {font: \"STIX-Web\"}});}</script>\n",
              "                <script type=\"text/javascript\">window.PlotlyConfig = {MathJaxConfig: 'local'};</script>\n",
              "        <script src=\"https://cdn.plot.ly/plotly-latest.min.js\"></script>    \n",
              "            <div id=\"590cce89-c58c-42cd-a46d-b521d29d4c31\" class=\"plotly-graph-div\" style=\"height:525px; width:100%;\"></div>\n",
              "            <script type=\"text/javascript\">\n",
              "                \n",
              "                    window.PLOTLYENV=window.PLOTLYENV || {};\n",
              "                    \n",
              "                if (document.getElementById(\"590cce89-c58c-42cd-a46d-b521d29d4c31\")) {\n",
              "                    Plotly.newPlot(\n",
              "                        '590cce89-c58c-42cd-a46d-b521d29d4c31',\n",
              "                        [{\"line\": {\"color\": \"red\"}, \"name\": \"sars\", \"opacity\": 0.5, \"type\": \"scatter\", \"x\": [\"2003-03-17\", \"2003-03-18\", \"2003-03-19\", \"2003-03-20\", \"2003-03-21\", \"2003-03-22\", \"2003-03-24\", \"2003-03-25\", \"2003-03-26\", \"2003-03-27\", \"2003-03-28\", \"2003-03-29\", \"2003-03-31\", \"2003-04-01\", \"2003-04-02\", \"2003-04-03\", \"2003-04-04\", \"2003-04-05\", \"2003-04-07\", \"2003-04-08\", \"2003-04-09\", \"2003-04-10\", \"2003-04-11\", \"2003-04-12\", \"2003-04-14\", \"2003-04-15\", \"2003-04-16\", \"2003-04-17\", \"2003-04-18\", \"2003-04-19\", \"2003-04-21\", \"2003-04-22\", \"2003-04-23\", \"2003-04-24\", \"2003-04-25\", \"2003-04-26\", \"2003-04-28\", \"2003-04-29\", \"2003-04-30\", \"2003-05-01\", \"2003-05-02\", \"2003-05-03\", \"2003-05-05\", \"2003-05-06\", \"2003-05-07\", \"2003-05-08\", \"2003-05-09\", \"2003-05-10\", \"2003-05-12\", \"2003-05-13\", \"2003-05-14\", \"2003-05-15\", \"2003-05-16\", \"2003-05-17\", \"2003-05-19\", \"2003-05-20\", \"2003-05-21\", \"2003-05-22\", \"2003-05-23\", \"2003-05-24\", \"2003-05-26\", \"2003-05-27\", \"2003-05-28\", \"2003-05-29\", \"2003-05-30\", \"2003-05-31\", \"2003-06-02\", \"2003-06-03\", \"2003-06-04\", \"2003-06-05\", \"2003-06-06\", \"2003-06-09\", \"2003-06-10\", \"2003-06-11\", \"2003-06-12\", \"2003-06-13\", \"2003-06-16\", \"2003-06-17\", \"2003-06-18\", \"2003-06-19\", \"2003-06-20\", \"2003-06-23\", \"2003-06-24\", \"2003-06-25\", \"2003-06-26\", \"2003-06-27\", \"2003-06-30\", \"2003-07-01\", \"2003-07-02\", \"2003-07-03\", \"2003-07-04\", \"2003-07-07\", \"2003-07-08\", \"2003-07-09\", \"2003-07-10\", \"2003-07-11\"], \"y\": [167, 219, 264, 306, 350, 386, 456, 487, 1323, 1408, 1485, 1550, 1622, 1804, 2223, 2270, 2353, 2416, 2601, 2671, 2722, 2781, 2890, 2960, 3169, 3235, 3293, 3389, 3547, 3547, 3861, 3947, 4288, 4435, 4645, 4832, 5046, 5458, 5659, 5861, 6050, 6230, 6579, 6723, 6899, 7049, 7179, 7292, 7441, 7542, 7622, 7693, 7733, 7755, 7858, 7913, 7950, 8046, 8111, 8135, 8196, 8215, 8240, 8295, 8311, 8354, 8379, 8393, 8397, 8398, 8399, 8416, 8425, 8430, 8440, 8449, 8455, 8459, 8460, 8457, 8456, 8454, 8453, 8455, 8451, 8445, 8447, 8440, 8437, 8434, 8434, 8434, 8431, 8431, 8432, 8432]}, {\"line\": {\"color\": \"black\"}, \"name\": \"ebola\", \"opacity\": 0.5, \"type\": \"scatter\", \"x\": [\"2014-08-29\", \"2014-09-05\", \"2014-09-08\", \"2014-09-12\", \"2014-09-16\", \"2014-09-18\", \"2014-09-22\", \"2014-09-24\", \"2014-09-26\", \"2014-10-01\", \"2014-10-03\", \"2014-10-08\", \"2014-10-10\", \"2014-10-15\", \"2014-10-17\", \"2014-10-22\", \"2014-10-25\", \"2014-10-29\", \"2014-10-31\", \"2014-11-05\", \"2014-11-07\", \"2014-11-12\", \"2014-11-14\", \"2014-11-19\", \"2014-11-21\", \"2014-11-26\", \"2014-12-01\", \"2014-12-03\", \"2014-12-10\", \"2014-12-15\", \"2014-12-17\", \"2014-12-22\", \"2014-12-23\", \"2014-12-24\", \"2014-12-26\", \"2014-12-29\", \"2014-12-30\", \"2014-12-31\", \"2015-01-02\", \"2015-01-05\", \"2015-01-06\", \"2015-01-07\", \"2015-01-08\", \"2015-01-09\", \"2015-01-12\", \"2015-01-13\", \"2015-01-14\", \"2015-01-15\", \"2015-01-16\", \"2015-01-19\", \"2015-01-20\", \"2015-01-21\", \"2015-01-22\", \"2015-01-23\", \"2015-01-26\", \"2015-01-27\", \"2015-01-28\", \"2015-01-29\", \"2015-01-30\", \"2015-02-02\", \"2015-02-03\", \"2015-02-04\", \"2015-02-05\", \"2015-02-06\", \"2015-02-10\", \"2015-02-11\", \"2015-02-12\", \"2015-02-13\", \"2015-02-16\", \"2015-02-17\", \"2015-02-18\", \"2015-02-19\", \"2015-02-20\", \"2015-02-23\", \"2015-02-25\", \"2015-02-26\", \"2015-02-27\", \"2015-03-02\", \"2015-03-04\", \"2015-03-05\", \"2015-03-06\", \"2015-03-10\", \"2015-03-11\", \"2015-03-12\", \"2015-03-13\", \"2015-03-16\", \"2015-03-17\", \"2015-03-18\", \"2015-03-20\", \"2015-03-23\", \"2015-03-24\", \"2015-03-25\", \"2015-03-26\", \"2015-03-27\", \"2015-04-07\", \"2015-04-09\", \"2015-04-13\", \"2015-04-14\", \"2015-04-15\", \"2015-04-16\", \"2015-04-17\", \"2015-04-20\", \"2015-04-21\", \"2015-04-22\", \"2015-04-23\", \"2015-04-24\", \"2015-04-27\", \"2015-04-28\", \"2015-04-30\", \"2015-05-01\", \"2015-05-04\", \"2015-05-05\", \"2015-05-06\", \"2015-05-07\", \"2015-05-08\", \"2015-05-11\", \"2015-05-12\", \"2015-05-13\", \"2015-05-14\", \"2015-05-15\", \"2015-05-18\", \"2015-05-19\", \"2015-05-20\", \"2015-05-21\", \"2015-05-22\", \"2015-05-25\", \"2015-05-26\", \"2015-05-27\", \"2015-05-28\", \"2015-05-29\", \"2015-06-01\", \"2015-06-02\", \"2015-06-03\", \"2015-06-04\", \"2015-06-05\", \"2015-06-08\", \"2015-06-09\", \"2015-06-10\", \"2015-06-11\", \"2015-06-12\", \"2015-06-15\", \"2015-06-16\", \"2015-06-17\", \"2015-06-18\", \"2015-06-19\", \"2015-06-22\", \"2015-06-23\", \"2015-06-24\", \"2015-06-25\", \"2015-06-26\", \"2015-06-29\", \"2015-06-30\", \"2015-07-01\", \"2015-07-02\", \"2015-07-03\", \"2015-07-06\", \"2015-07-07\", \"2015-07-08\", \"2015-07-09\", \"2015-07-10\", \"2015-07-13\", \"2015-07-14\", \"2015-07-15\", \"2015-07-16\", \"2015-07-17\", \"2015-07-20\", \"2015-07-21\", \"2015-07-22\", \"2015-07-23\", \"2015-07-24\", \"2015-07-27\", \"2015-07-28\", \"2015-07-29\", \"2015-07-30\", \"2015-07-31\", \"2015-08-03\", \"2015-08-04\", \"2015-08-05\", \"2015-08-06\", \"2015-08-07\", \"2015-08-10\", \"2015-08-11\", \"2015-08-12\", \"2015-08-13\", \"2015-08-14\", \"2015-08-17\", \"2015-08-18\", \"2015-08-19\", \"2015-08-20\", \"2015-08-21\", \"2015-08-24\", \"2015-08-25\", \"2015-08-26\", \"2015-08-27\", \"2015-08-28\", \"2015-08-31\", \"2015-09-01\", \"2015-09-02\", \"2015-09-03\", \"2015-09-04\", \"2015-09-07\", \"2015-09-08\", \"2015-09-09\", \"2015-09-10\", \"2015-09-11\", \"2015-09-14\", \"2015-09-15\", \"2015-09-16\", \"2015-09-17\", \"2015-09-18\", \"2015-09-21\", \"2015-09-22\", \"2015-09-23\", \"2015-09-24\", \"2015-09-25\", \"2015-09-28\", \"2015-09-29\", \"2015-09-30\", \"2015-10-01\", \"2015-10-02\", \"2015-10-05\", \"2015-10-06\", \"2015-10-07\", \"2015-10-08\", \"2015-10-09\", \"2015-10-13\", \"2015-10-15\", \"2015-10-16\", \"2015-10-20\", \"2015-10-22\", \"2015-10-23\", \"2015-10-26\", \"2015-10-27\", \"2015-10-29\", \"2015-10-30\", \"2015-11-03\", \"2015-11-05\", \"2015-11-06\", \"2015-11-10\", \"2015-11-11\", \"2015-11-12\", \"2015-11-16\", \"2015-11-17\", \"2015-11-20\", \"2015-11-24\", \"2015-11-26\", \"2015-12-01\", \"2015-12-02\", \"2015-12-03\", \"2015-12-09\", \"2015-12-10\", \"2015-12-11\", \"2015-12-15\", \"2015-12-16\", \"2015-12-17\", \"2015-12-22\", \"2015-12-23\", \"2015-12-29\", \"2016-03-23\"], \"y\": [3071, 3967, 4293, 4390, 4985, 5347, 5864, 6263, 6574, 7178, 7492, 8033, 8399, 8997, 9216, 9936, 10141, 13703, 13567, 13042, 13268, 14098, 14413, 15145, 15351, 15935, 16933, 17145, 17942, 18498, 18603, 19374, 19465, 19497, 19729, 20115, 20163, 20205, 20415, 20690, 20747, 20747, 20972, 21086, 21171, 21171, 21296, 21364, 21408, 21649, 21724, 21724, 21794, 21832, 21959, 22092, 22092, 22136, 22159, 22369, 22479, 22495, 22522, 22560, 22894, 22894, 22938, 23034, 23217, 23253, 23253, 23401, 23406, 23574, 23729, 23816, 23860, 23948, 23948, 24018, 24049, 24282, 24282, 24385, 24544, 24632, 24701, 24701, 24788, 24877, 24907, 24907, 24962, 24992, 25551, 25567, 25626, 25646, 25826, 25866, 25890, 25898, 25907, 26079, 26109, 26136, 26194, 26312, 26325, 26333, 26374, 26571, 26628, 26661, 26683, 26757, 26759, 26757, 26791, 26799, 26921, 26969, 26969, 27007, 27015, 27038, 27049, 27049, 27076, 27091, 27171, 27181, 27181, 27209, 27225, 27255, 27273, 27273, 27287, 27311, 27341, 27345, 27341, 27367, 27388, 27451, 27479, 27479, 27503, 27515, 27541, 27550, 27550, 27576, 27627, 27600, 27609, 27609, 27621, 27636, 27663, 27678, 27678, 27679, 27688, 27734, 27742, 27741, 27759, 27760, 27784, 27785, 27784, 27872, 27876, 27896, 27898, 27898, 27926, 27931, 27964, 27965, 27965, 27984, 27984, 27987, 27988, 27988, 28018, 28036, 28036, 28041, 28041, 28087, 28091, 28101, 28109, 28109, 28138, 28139, 28171, 28183, 28183, 28196, 28200, 28248, 28256, 28256, 28281, 28287, 28316, 28331, 28331, 28355, 28360, 28407, 28424, 28424, 28444, 28448, 28453, 28457, 28457, 28463, 28465, 28490, 28502, 28504, 28512, 28540, 28547, 28564, 28575, 28582, 28583, 28607, 28617, 28622, 28635, 28635, 28635, 28635, 28634, 28634, 28634, 28637, 28637, 28637, 28638, 28637, 28637, 28637, 28640, 28640, 28638, 28637, 28637, 28637, 28642]}, {\"line\": {\"color\": \"blue\"}, \"name\": \"covid\", \"opacity\": 0.5, \"type\": \"scatter\", \"x\": [\"2020-01-22\", \"2020-01-23\", \"2020-01-24\", \"2020-01-25\", \"2020-01-26\", \"2020-01-27\", \"2020-01-28\", \"2020-01-29\", \"2020-01-30\", \"2020-01-31\", \"2020-02-01\", \"2020-02-02\", \"2020-02-03\", \"2020-02-04\", \"2020-02-05\", \"2020-02-06\", \"2020-02-07\", \"2020-02-08\", \"2020-02-09\", \"2020-02-10\", \"2020-02-11\", \"2020-02-12\", \"2020-02-13\", \"2020-02-14\", \"2020-02-15\", \"2020-02-16\", \"2020-02-17\", \"2020-02-18\", \"2020-02-19\", \"2020-02-20\", \"2020-02-21\", \"2020-02-22\", \"2020-02-23\", \"2020-02-24\", \"2020-02-25\", \"2020-02-26\", \"2020-02-27\", \"2020-02-28\", \"2020-02-29\", \"2020-03-01\", \"2020-03-02\", \"2020-03-03\", \"2020-03-04\", \"2020-03-05\", \"2020-03-06\", \"2020-03-07\", \"2020-03-08\", \"2020-03-09\", \"2020-03-10\", \"2020-03-11\", \"2020-03-12\", \"2020-03-13\", \"2020-03-14\", \"2020-03-15\"], \"y\": [555.0, 653.0, 941.0, 1438.0, 2118.0, 2927.0, 5578.0, 6165.0, 8235.0, 10151.0, 12287.0, 16804.0, 19902.0, 24027.0, 27587.0, 30798.0, 34485.0, 37078.0, 40326.0, 42696.0, 44584.0, 45590.0, 60636.0, 66634.0, 69112.0, 71197.0, 73273.0, 75029.0, 75634.0, 77227.0, 76959.0, 77612.0, 80435.0, 78714.0, 79768.0, 82246.0, 82524.0, 83702.0, 86502.0, 87613.0, 91481.0, 94704.0, 93967.0, 97461.0, 106265.0, 105073.0, 113842.0, 108042.0, 114542.0, 217851.0, 111879.0, 79311.0, 182898.0, 130552.0]}, {\"line\": {\"color\": \"green\"}, \"name\": \"Tourism\", \"opacity\": 0.2, \"type\": \"scatter\", \"x\": [\"2003-01-01\", \"2003-02-01\", \"2003-03-01\", \"2003-04-01\", \"2003-05-01\", \"2003-06-01\", \"2003-07-01\", \"2003-08-01\", \"2003-09-01\", \"2003-10-01\", \"2003-11-01\", \"2003-12-01\", \"2004-01-01\", \"2004-02-01\", \"2004-03-01\", \"2004-04-01\", \"2004-05-01\", \"2004-06-01\", \"2004-07-01\", \"2004-08-01\", \"2004-09-01\", \"2004-10-01\", \"2004-11-01\", \"2004-12-01\", \"2005-01-01\", \"2005-02-01\", \"2005-03-01\", \"2005-04-01\", \"2005-05-01\", \"2005-06-01\", \"2005-07-01\", \"2005-08-01\", \"2005-09-01\", \"2005-10-01\", \"2005-11-01\", \"2005-12-01\", \"2006-01-01\", \"2006-02-01\", \"2006-03-01\", \"2006-04-01\", \"2006-05-01\", \"2006-06-01\", \"2006-07-01\", \"2006-08-01\", \"2006-09-01\", \"2006-10-01\", \"2006-11-01\", \"2006-12-01\", \"2007-01-01\", \"2007-02-01\", \"2007-03-01\", \"2007-04-01\", \"2007-05-01\", \"2007-06-01\", \"2007-07-01\", \"2007-08-01\", \"2007-09-01\", \"2007-10-01\", \"2007-11-01\", \"2007-12-01\", \"2008-01-01\", \"2008-02-01\", \"2008-03-01\", \"2008-04-01\", \"2008-05-01\", \"2008-06-01\", \"2008-07-01\", \"2008-08-01\", \"2008-09-01\", \"2008-10-01\", \"2008-11-01\", \"2008-12-01\", \"2009-01-01\", \"2009-02-01\", \"2009-03-01\", \"2009-04-01\", \"2009-05-01\", \"2009-06-01\", \"2009-07-01\", \"2009-08-01\", \"2009-09-01\", \"2009-10-01\", \"2009-11-01\", \"2009-12-01\", \"2010-01-01\", \"2010-02-01\", \"2010-03-01\", \"2010-04-01\", \"2010-05-01\", \"2010-06-01\", \"2010-07-01\", \"2010-08-01\", \"2010-09-01\", \"2010-10-01\", \"2010-11-01\", \"2010-12-01\", \"2011-01-01\", \"2011-02-01\", \"2011-03-01\", \"2011-04-01\", \"2011-05-01\", \"2011-06-01\", \"2011-07-01\", \"2011-08-01\", \"2011-09-01\", \"2011-10-01\", \"2011-11-01\", \"2011-12-01\", \"2012-01-01\", \"2012-02-01\", \"2012-03-01\", \"2012-04-01\", \"2012-05-01\", \"2012-06-01\", \"2012-07-01\", \"2012-08-01\", \"2012-09-01\", \"2012-10-01\", \"2012-11-01\", \"2012-12-01\", \"2013-01-01\", \"2013-02-01\", \"2013-03-01\", \"2013-04-01\", \"2013-05-01\", \"2013-06-01\", \"2013-07-01\", \"2013-08-01\", \"2013-09-01\", \"2013-10-01\", \"2013-11-01\", \"2013-12-01\", \"2014-01-01\", \"2014-02-01\", \"2014-03-01\", \"2014-04-01\", \"2014-05-01\", \"2014-06-01\", \"2014-07-01\", \"2014-08-01\", \"2014-09-01\", \"2014-10-01\", \"2014-11-01\", \"2014-12-01\", \"2015-01-01\", \"2015-02-01\", \"2015-03-01\", \"2015-04-01\", \"2015-05-01\", \"2015-06-01\", \"2015-07-01\", \"2015-08-01\", \"2015-09-01\", \"2015-10-01\", \"2015-11-01\", \"2015-12-01\", \"2016-01-01\", \"2016-02-01\", \"2016-03-01\", \"2016-04-01\", \"2016-05-01\", \"2016-06-01\", \"2016-07-01\", \"2016-08-01\", \"2016-09-01\", \"2016-10-01\", \"2016-11-01\", \"2016-12-01\", \"2017-01-01\", \"2017-02-01\", \"2017-03-01\", \"2017-04-01\", \"2017-05-01\", \"2017-06-01\", \"2017-07-01\", \"2017-08-01\", \"2017-09-01\", \"2017-10-01\", \"2017-11-01\", \"2017-12-01\", \"2018-01-01\", \"2018-02-01\", \"2018-03-01\", \"2018-04-01\", \"2018-05-01\", \"2018-06-01\", \"2018-07-01\", \"2018-08-01\", \"2018-09-01\", \"2018-10-01\", \"2018-11-01\", \"2018-12-01\", \"2019-01-01\", \"2019-02-01\"], \"y\": [401000, 427000, 356000, 363000, 319000, 381000, 623000, 743000, 573000, 664000, 620000, 574000, 567000, 580000, 656000, 723000, 612000, 576000, 793000, 877000, 720000, 735000, 678000, 586000, 635000, 639000, 827000, 819000, 686000, 654000, 840000, 743000, 631000, 714000, 738000, 682000, 706000, 668000, 779000, 921000, 638000, 634000, 794000, 814000, 661000, 855000, 803000, 809000, 723000, 776000, 981000, 1031000, 797000, 743000, 952000, 990000, 841000, 1130000, 1102000, 1025000, 916000, 974000, 1213000, 1213000, 1019000, 920000, 1119000, 1149000, 935000, 1266000, 1133000, 979000, 803000, 845000, 1039000, 1184000, 958000, 884000, 1095000, 1095000, 1036000, 1298000, 1216000, 1084000, 1054400, 1069934, 1338991, 1244101, 1198014, 1029282, 1303209, 1142680, 1185466, 1485887, 1403827, 1275022, 1147962, 210971, 535111, 800458, 708784, 731601, 935585, 907257, 917354, 1077081, 1018352, 854550, 820066, 753451, 926784, 1047188, 845642, 849521, 1013654, 1037785, 993781, 1163043, 1102684, 978259, 903445, 844760, 1116892, 1101582, 969108, 988573, 765108, 564517, 301150, 558687, 672878, 677649, 642197, 616923, 754691, 859889, 768221, 785652, 885765, 997705, 883946, 1002928, 898243, 781602, 677536, 640179, 834636, 923884, 894612, 820016, 911606, 915213, 802038, 909437, 558601, 440046, 363545, 346481, 440689, 425038, 431824, 328595, 529212, 503031, 473007, 506167, 499777, 551568, 543892, 539065, 654877, 715956, 573810, 532955, 781192, 819619, 732730, 825970, 779008, 793252, 712342, 729234, 941787, 987282, 818992, 855040, 1101083, 1096000, 995000, 1081000, 996000, 1032000, 861000, 885000]}],\n",
              "                        {\"template\": {\"data\": {\"bar\": [{\"error_x\": {\"color\": \"#2a3f5f\"}, \"error_y\": {\"color\": \"#2a3f5f\"}, \"marker\": {\"line\": {\"color\": \"#E5ECF6\", \"width\": 0.5}}, \"type\": \"bar\"}], \"barpolar\": [{\"marker\": {\"line\": {\"color\": \"#E5ECF6\", \"width\": 0.5}}, \"type\": \"barpolar\"}], \"carpet\": [{\"aaxis\": {\"endlinecolor\": \"#2a3f5f\", \"gridcolor\": \"white\", \"linecolor\": \"white\", \"minorgridcolor\": \"white\", \"startlinecolor\": \"#2a3f5f\"}, \"baxis\": {\"endlinecolor\": \"#2a3f5f\", \"gridcolor\": \"white\", \"linecolor\": \"white\", \"minorgridcolor\": \"white\", \"startlinecolor\": \"#2a3f5f\"}, \"type\": \"carpet\"}], \"choropleth\": [{\"colorbar\": {\"outlinewidth\": 0, \"ticks\": \"\"}, \"type\": \"choropleth\"}], \"contour\": [{\"colorbar\": {\"outlinewidth\": 0, \"ticks\": \"\"}, \"colorscale\": [[0.0, \"#0d0887\"], [0.1111111111111111, \"#46039f\"], [0.2222222222222222, \"#7201a8\"], [0.3333333333333333, \"#9c179e\"], [0.4444444444444444, \"#bd3786\"], [0.5555555555555556, \"#d8576b\"], [0.6666666666666666, \"#ed7953\"], [0.7777777777777778, \"#fb9f3a\"], [0.8888888888888888, \"#fdca26\"], [1.0, \"#f0f921\"]], \"type\": \"contour\"}], \"contourcarpet\": [{\"colorbar\": {\"outlinewidth\": 0, \"ticks\": \"\"}, \"type\": \"contourcarpet\"}], \"heatmap\": [{\"colorbar\": {\"outlinewidth\": 0, \"ticks\": \"\"}, \"colorscale\": [[0.0, \"#0d0887\"], [0.1111111111111111, \"#46039f\"], [0.2222222222222222, \"#7201a8\"], [0.3333333333333333, \"#9c179e\"], [0.4444444444444444, \"#bd3786\"], [0.5555555555555556, \"#d8576b\"], [0.6666666666666666, \"#ed7953\"], [0.7777777777777778, \"#fb9f3a\"], [0.8888888888888888, \"#fdca26\"], [1.0, \"#f0f921\"]], \"type\": \"heatmap\"}], \"heatmapgl\": [{\"colorbar\": {\"outlinewidth\": 0, \"ticks\": \"\"}, \"colorscale\": [[0.0, \"#0d0887\"], [0.1111111111111111, \"#46039f\"], [0.2222222222222222, \"#7201a8\"], [0.3333333333333333, \"#9c179e\"], [0.4444444444444444, \"#bd3786\"], [0.5555555555555556, \"#d8576b\"], [0.6666666666666666, \"#ed7953\"], [0.7777777777777778, \"#fb9f3a\"], [0.8888888888888888, \"#fdca26\"], [1.0, \"#f0f921\"]], \"type\": \"heatmapgl\"}], \"histogram\": [{\"marker\": {\"colorbar\": {\"outlinewidth\": 0, \"ticks\": \"\"}}, \"type\": \"histogram\"}], \"histogram2d\": [{\"colorbar\": {\"outlinewidth\": 0, \"ticks\": \"\"}, \"colorscale\": [[0.0, \"#0d0887\"], [0.1111111111111111, \"#46039f\"], [0.2222222222222222, \"#7201a8\"], [0.3333333333333333, \"#9c179e\"], [0.4444444444444444, \"#bd3786\"], [0.5555555555555556, \"#d8576b\"], [0.6666666666666666, \"#ed7953\"], [0.7777777777777778, \"#fb9f3a\"], [0.8888888888888888, \"#fdca26\"], [1.0, \"#f0f921\"]], \"type\": \"histogram2d\"}], \"histogram2dcontour\": [{\"colorbar\": {\"outlinewidth\": 0, \"ticks\": \"\"}, \"colorscale\": [[0.0, \"#0d0887\"], [0.1111111111111111, \"#46039f\"], [0.2222222222222222, \"#7201a8\"], [0.3333333333333333, \"#9c179e\"], [0.4444444444444444, \"#bd3786\"], [0.5555555555555556, \"#d8576b\"], [0.6666666666666666, \"#ed7953\"], [0.7777777777777778, \"#fb9f3a\"], [0.8888888888888888, \"#fdca26\"], [1.0, \"#f0f921\"]], \"type\": \"histogram2dcontour\"}], \"mesh3d\": [{\"colorbar\": {\"outlinewidth\": 0, \"ticks\": \"\"}, \"type\": \"mesh3d\"}], \"parcoords\": [{\"line\": {\"colorbar\": {\"outlinewidth\": 0, \"ticks\": \"\"}}, \"type\": \"parcoords\"}], \"pie\": [{\"automargin\": true, \"type\": \"pie\"}], \"scatter\": [{\"marker\": {\"colorbar\": {\"outlinewidth\": 0, \"ticks\": \"\"}}, \"type\": \"scatter\"}], \"scatter3d\": [{\"line\": {\"colorbar\": {\"outlinewidth\": 0, \"ticks\": \"\"}}, \"marker\": {\"colorbar\": {\"outlinewidth\": 0, \"ticks\": \"\"}}, \"type\": \"scatter3d\"}], \"scattercarpet\": [{\"marker\": {\"colorbar\": {\"outlinewidth\": 0, \"ticks\": \"\"}}, \"type\": \"scattercarpet\"}], \"scattergeo\": [{\"marker\": {\"colorbar\": {\"outlinewidth\": 0, \"ticks\": \"\"}}, \"type\": \"scattergeo\"}], \"scattergl\": [{\"marker\": {\"colorbar\": {\"outlinewidth\": 0, \"ticks\": \"\"}}, \"type\": \"scattergl\"}], \"scattermapbox\": [{\"marker\": {\"colorbar\": {\"outlinewidth\": 0, \"ticks\": \"\"}}, \"type\": \"scattermapbox\"}], \"scatterpolar\": [{\"marker\": {\"colorbar\": {\"outlinewidth\": 0, \"ticks\": \"\"}}, \"type\": \"scatterpolar\"}], \"scatterpolargl\": [{\"marker\": {\"colorbar\": {\"outlinewidth\": 0, \"ticks\": \"\"}}, \"type\": \"scatterpolargl\"}], \"scatterternary\": [{\"marker\": {\"colorbar\": {\"outlinewidth\": 0, \"ticks\": \"\"}}, \"type\": \"scatterternary\"}], \"surface\": [{\"colorbar\": {\"outlinewidth\": 0, \"ticks\": \"\"}, \"colorscale\": [[0.0, \"#0d0887\"], [0.1111111111111111, \"#46039f\"], [0.2222222222222222, \"#7201a8\"], [0.3333333333333333, \"#9c179e\"], [0.4444444444444444, \"#bd3786\"], [0.5555555555555556, \"#d8576b\"], [0.6666666666666666, \"#ed7953\"], [0.7777777777777778, \"#fb9f3a\"], [0.8888888888888888, \"#fdca26\"], [1.0, \"#f0f921\"]], \"type\": \"surface\"}], \"table\": [{\"cells\": {\"fill\": {\"color\": \"#EBF0F8\"}, \"line\": {\"color\": \"white\"}}, \"header\": {\"fill\": {\"color\": \"#C8D4E3\"}, \"line\": {\"color\": \"white\"}}, \"type\": \"table\"}]}, \"layout\": {\"annotationdefaults\": {\"arrowcolor\": \"#2a3f5f\", \"arrowhead\": 0, \"arrowwidth\": 1}, \"coloraxis\": {\"colorbar\": {\"outlinewidth\": 0, \"ticks\": \"\"}}, \"colorscale\": {\"diverging\": [[0, \"#8e0152\"], [0.1, \"#c51b7d\"], [0.2, \"#de77ae\"], [0.3, \"#f1b6da\"], [0.4, \"#fde0ef\"], [0.5, \"#f7f7f7\"], [0.6, \"#e6f5d0\"], [0.7, \"#b8e186\"], [0.8, \"#7fbc41\"], [0.9, \"#4d9221\"], [1, \"#276419\"]], \"sequential\": [[0.0, \"#0d0887\"], [0.1111111111111111, \"#46039f\"], [0.2222222222222222, \"#7201a8\"], [0.3333333333333333, \"#9c179e\"], [0.4444444444444444, \"#bd3786\"], [0.5555555555555556, \"#d8576b\"], [0.6666666666666666, \"#ed7953\"], [0.7777777777777778, \"#fb9f3a\"], [0.8888888888888888, \"#fdca26\"], [1.0, \"#f0f921\"]], \"sequentialminus\": [[0.0, \"#0d0887\"], [0.1111111111111111, \"#46039f\"], [0.2222222222222222, \"#7201a8\"], [0.3333333333333333, \"#9c179e\"], [0.4444444444444444, \"#bd3786\"], [0.5555555555555556, \"#d8576b\"], [0.6666666666666666, \"#ed7953\"], [0.7777777777777778, \"#fb9f3a\"], [0.8888888888888888, \"#fdca26\"], [1.0, \"#f0f921\"]]}, \"colorway\": [\"#636efa\", \"#EF553B\", \"#00cc96\", \"#ab63fa\", \"#FFA15A\", \"#19d3f3\", \"#FF6692\", \"#B6E880\", \"#FF97FF\", \"#FECB52\"], \"font\": {\"color\": \"#2a3f5f\"}, \"geo\": {\"bgcolor\": \"white\", \"lakecolor\": \"white\", \"landcolor\": \"#E5ECF6\", \"showlakes\": true, \"showland\": true, \"subunitcolor\": \"white\"}, \"hoverlabel\": {\"align\": \"left\"}, \"hovermode\": \"closest\", \"mapbox\": {\"style\": \"light\"}, \"paper_bgcolor\": \"white\", \"plot_bgcolor\": \"#E5ECF6\", \"polar\": {\"angularaxis\": {\"gridcolor\": \"white\", \"linecolor\": \"white\", \"ticks\": \"\"}, \"bgcolor\": \"#E5ECF6\", \"radialaxis\": {\"gridcolor\": \"white\", \"linecolor\": \"white\", \"ticks\": \"\"}}, \"scene\": {\"xaxis\": {\"backgroundcolor\": \"#E5ECF6\", \"gridcolor\": \"white\", \"gridwidth\": 2, \"linecolor\": \"white\", \"showbackground\": true, \"ticks\": \"\", \"zerolinecolor\": \"white\"}, \"yaxis\": {\"backgroundcolor\": \"#E5ECF6\", \"gridcolor\": \"white\", \"gridwidth\": 2, \"linecolor\": \"white\", \"showbackground\": true, \"ticks\": \"\", \"zerolinecolor\": \"white\"}, \"zaxis\": {\"backgroundcolor\": \"#E5ECF6\", \"gridcolor\": \"white\", \"gridwidth\": 2, \"linecolor\": \"white\", \"showbackground\": true, \"ticks\": \"\", \"zerolinecolor\": \"white\"}}, \"shapedefaults\": {\"line\": {\"color\": \"#2a3f5f\"}}, \"ternary\": {\"aaxis\": {\"gridcolor\": \"white\", \"linecolor\": \"white\", \"ticks\": \"\"}, \"baxis\": {\"gridcolor\": \"white\", \"linecolor\": \"white\", \"ticks\": \"\"}, \"bgcolor\": \"#E5ECF6\", \"caxis\": {\"gridcolor\": \"white\", \"linecolor\": \"white\", \"ticks\": \"\"}}, \"title\": {\"x\": 0.05}, \"xaxis\": {\"automargin\": true, \"gridcolor\": \"white\", \"linecolor\": \"white\", \"ticks\": \"\", \"title\": {\"standoff\": 15}, \"zerolinecolor\": \"white\", \"zerolinewidth\": 2}, \"yaxis\": {\"automargin\": true, \"gridcolor\": \"white\", \"linecolor\": \"white\", \"ticks\": \"\", \"title\": {\"standoff\": 15}, \"zerolinecolor\": \"white\", \"zerolinewidth\": 2}}}, \"title\": {\"text\": \"Confirmed cases per month\"}, \"xaxis\": {\"rangeslider\": {\"visible\": true}}},\n",
              "                        {\"responsive\": true}\n",
              "                    ).then(function(){\n",
              "                            \n",
              "var gd = document.getElementById('590cce89-c58c-42cd-a46d-b521d29d4c31');\n",
              "var x = new MutationObserver(function (mutations, observer) {{\n",
              "        var display = window.getComputedStyle(gd).display;\n",
              "        if (!display || display === 'none') {{\n",
              "            console.log([gd, 'removed!']);\n",
              "            Plotly.purge(gd);\n",
              "            observer.disconnect();\n",
              "        }}\n",
              "}});\n",
              "\n",
              "// Listen for the removal of the full notebook cells\n",
              "var notebookContainer = gd.closest('#notebook-container');\n",
              "if (notebookContainer) {{\n",
              "    x.observe(notebookContainer, {childList: true});\n",
              "}}\n",
              "\n",
              "// Listen for the clearing of the current output cell\n",
              "var outputEl = gd.closest('.output');\n",
              "if (outputEl) {{\n",
              "    x.observe(outputEl, {childList: true});\n",
              "}}\n",
              "\n",
              "                        })\n",
              "                };\n",
              "                \n",
              "            </script>\n",
              "        </div>\n",
              "</body>\n",
              "</html>"
            ]
          },
          "metadata": {
            "tags": []
          }
        }
      ]
    },
    {
      "cell_type": "code",
      "metadata": {
        "id": "zEvSW5B7eBNm",
        "colab_type": "code",
        "colab": {
          "base_uri": "https://localhost:8080/",
          "height": 542
        },
        "outputId": "4363fe62-ecb4-4934-ebd9-76c1615e0a0c"
      },
      "source": [
        "fig = go.Figure()\n",
        "\n",
        "fig.add_trace(go.Scatter( \n",
        "                 x = sars_dataset_grouped['Date'] , \n",
        "                 y = sars_dataset_grouped['Recovered'],\n",
        "                 name = 'sars',\n",
        "                 line_color = 'red',\n",
        "                 opacity = 0.5))\n",
        "\n",
        "\n",
        "fig.add_trace(go.Scatter( \n",
        "                 x = covid_dataset_grouped['Date'] , \n",
        "                 y = covid_dataset_grouped['Recovered'],\n",
        "                 name = 'covid',\n",
        "                 line_color = 'blue',\n",
        "                 opacity = 0.5))\n",
        "\n",
        "fig.update_layout(\n",
        "                  title_text=\"Recovered cases per month\",\n",
        "                  xaxis_rangeslider_visible=True)\n",
        "fig.show()"
      ],
      "execution_count": null,
      "outputs": [
        {
          "output_type": "display_data",
          "data": {
            "text/html": [
              "<html>\n",
              "<head><meta charset=\"utf-8\" /></head>\n",
              "<body>\n",
              "    <div>\n",
              "            <script src=\"https://cdnjs.cloudflare.com/ajax/libs/mathjax/2.7.5/MathJax.js?config=TeX-AMS-MML_SVG\"></script><script type=\"text/javascript\">if (window.MathJax) {MathJax.Hub.Config({SVG: {font: \"STIX-Web\"}});}</script>\n",
              "                <script type=\"text/javascript\">window.PlotlyConfig = {MathJaxConfig: 'local'};</script>\n",
              "        <script src=\"https://cdn.plot.ly/plotly-latest.min.js\"></script>    \n",
              "            <div id=\"bd467162-318e-4955-a830-167659caa123\" class=\"plotly-graph-div\" style=\"height:525px; width:100%;\"></div>\n",
              "            <script type=\"text/javascript\">\n",
              "                \n",
              "                    window.PLOTLYENV=window.PLOTLYENV || {};\n",
              "                    \n",
              "                if (document.getElementById(\"bd467162-318e-4955-a830-167659caa123\")) {\n",
              "                    Plotly.newPlot(\n",
              "                        'bd467162-318e-4955-a830-167659caa123',\n",
              "                        [{\"line\": {\"color\": \"red\"}, \"name\": \"sars\", \"opacity\": 0.5, \"type\": \"scatter\", \"x\": [\"2003-03-17\", \"2003-03-18\", \"2003-03-19\", \"2003-03-20\", \"2003-03-21\", \"2003-03-22\", \"2003-03-24\", \"2003-03-25\", \"2003-03-26\", \"2003-03-27\", \"2003-03-28\", \"2003-03-29\", \"2003-03-31\", \"2003-04-01\", \"2003-04-02\", \"2003-04-03\", \"2003-04-04\", \"2003-04-05\", \"2003-04-07\", \"2003-04-08\", \"2003-04-09\", \"2003-04-10\", \"2003-04-11\", \"2003-04-12\", \"2003-04-14\", \"2003-04-15\", \"2003-04-16\", \"2003-04-17\", \"2003-04-18\", \"2003-04-19\", \"2003-04-21\", \"2003-04-22\", \"2003-04-23\", \"2003-04-24\", \"2003-04-25\", \"2003-04-26\", \"2003-04-28\", \"2003-04-29\", \"2003-04-30\", \"2003-05-01\", \"2003-05-02\", \"2003-05-03\", \"2003-05-05\", \"2003-05-06\", \"2003-05-07\", \"2003-05-08\", \"2003-05-09\", \"2003-05-10\", \"2003-05-12\", \"2003-05-13\", \"2003-05-14\", \"2003-05-15\", \"2003-05-16\", \"2003-05-17\", \"2003-05-19\", \"2003-05-20\", \"2003-05-21\", \"2003-05-22\", \"2003-05-23\", \"2003-05-24\", \"2003-05-26\", \"2003-05-27\", \"2003-05-28\", \"2003-05-29\", \"2003-05-30\", \"2003-05-31\", \"2003-06-02\", \"2003-06-03\", \"2003-06-04\", \"2003-06-05\", \"2003-06-06\", \"2003-06-09\", \"2003-06-10\", \"2003-06-11\", \"2003-06-12\", \"2003-06-13\", \"2003-06-16\", \"2003-06-17\", \"2003-06-18\", \"2003-06-19\", \"2003-06-20\", \"2003-06-23\", \"2003-06-24\", \"2003-06-25\", \"2003-06-26\", \"2003-06-27\", \"2003-06-30\", \"2003-07-01\", \"2003-07-02\", \"2003-07-03\", \"2003-07-04\", \"2003-07-07\", \"2003-07-08\", \"2003-07-09\", \"2003-07-10\", \"2003-07-11\"], \"y\": [0, 0, 0, 0, 0, 0, 0, 0, 0, 0, 0, 0, 0, 0, 0, 0, 0, 0, 0, 0, 0, 1337, 1373, 1425, 1499, 1515, 1548, 1597, 1749, 1749, 1873, 1935, 2032, 2114, 2203, 2236, 2339, 2424, 2467, 2559, 2639, 2698, 2760, 2822, 2881, 2955, 3019, 3083, 3189, 3292, 3391, 3478, 3584, 3668, 3841, 3978, 4079, 4210, 4320, 4462, 4656, 4781, 4891, 4994, 5123, 5258, 5397, 5470, 5741, 5825, 5932, 6275, 6452, 6576, 6665, 6788, 6984, 7086, 7143, 7173, 7213, 7319, 7343, 7360, 7366, 7396, 7417, 7417, 7419, 7422, 7426, 7426, 7428, 7438, 7444, 7447]}, {\"line\": {\"color\": \"blue\"}, \"name\": \"covid\", \"opacity\": 0.5, \"type\": \"scatter\", \"x\": [\"2020-01-22\", \"2020-01-23\", \"2020-01-24\", \"2020-01-25\", \"2020-01-26\", \"2020-01-27\", \"2020-01-28\", \"2020-01-29\", \"2020-01-30\", \"2020-01-31\", \"2020-02-01\", \"2020-02-02\", \"2020-02-03\", \"2020-02-04\", \"2020-02-05\", \"2020-02-06\", \"2020-02-07\", \"2020-02-08\", \"2020-02-09\", \"2020-02-10\", \"2020-02-11\", \"2020-02-12\", \"2020-02-13\", \"2020-02-14\", \"2020-02-15\", \"2020-02-16\", \"2020-02-17\", \"2020-02-18\", \"2020-02-19\", \"2020-02-20\", \"2020-02-21\", \"2020-02-22\", \"2020-02-23\", \"2020-02-24\", \"2020-02-25\", \"2020-02-26\", \"2020-02-27\", \"2020-02-28\", \"2020-02-29\", \"2020-03-01\", \"2020-03-02\", \"2020-03-03\", \"2020-03-04\", \"2020-03-05\", \"2020-03-06\", \"2020-03-07\", \"2020-03-08\", \"2020-03-09\", \"2020-03-10\", \"2020-03-11\", \"2020-03-12\", \"2020-03-13\", \"2020-03-14\", \"2020-03-15\"], \"y\": [28.0, 30.0, 36.0, 39.0, 52.0, 61.0, 107.0, 126.0, 143.0, 239.0, 288.0, 463.0, 617.0, 866.0, 1120.0, 1507.0, 2000.0, 2660.0, 3313.0, 3905.0, 4689.0, 5320.0, 6531.0, 7952.0, 9477.0, 10911.0, 12590.0, 14315.0, 16136.0, 18060.0, 19442.0, 22613.0, 23452.0, 25128.0, 27997.0, 30422.0, 33683.0, 36268.0, 39634.0, 42695.0, 46201.0, 48707.0, 50728.0, 54137.0, 57671.0, 58197.0, 64907.0, 58658.0, 60893.0, 83516.0, 69239.0, 61369.0, 74229.0, 65858.0]}],\n",
              "                        {\"template\": {\"data\": {\"bar\": [{\"error_x\": {\"color\": \"#2a3f5f\"}, \"error_y\": {\"color\": \"#2a3f5f\"}, \"marker\": {\"line\": {\"color\": \"#E5ECF6\", \"width\": 0.5}}, \"type\": \"bar\"}], \"barpolar\": [{\"marker\": {\"line\": {\"color\": \"#E5ECF6\", \"width\": 0.5}}, \"type\": \"barpolar\"}], \"carpet\": [{\"aaxis\": {\"endlinecolor\": \"#2a3f5f\", \"gridcolor\": \"white\", \"linecolor\": \"white\", \"minorgridcolor\": \"white\", \"startlinecolor\": \"#2a3f5f\"}, \"baxis\": {\"endlinecolor\": \"#2a3f5f\", \"gridcolor\": \"white\", \"linecolor\": \"white\", \"minorgridcolor\": \"white\", \"startlinecolor\": \"#2a3f5f\"}, \"type\": \"carpet\"}], \"choropleth\": [{\"colorbar\": {\"outlinewidth\": 0, \"ticks\": \"\"}, \"type\": \"choropleth\"}], \"contour\": [{\"colorbar\": {\"outlinewidth\": 0, \"ticks\": \"\"}, \"colorscale\": [[0.0, \"#0d0887\"], [0.1111111111111111, \"#46039f\"], [0.2222222222222222, \"#7201a8\"], [0.3333333333333333, \"#9c179e\"], [0.4444444444444444, \"#bd3786\"], [0.5555555555555556, \"#d8576b\"], [0.6666666666666666, \"#ed7953\"], [0.7777777777777778, \"#fb9f3a\"], [0.8888888888888888, \"#fdca26\"], [1.0, \"#f0f921\"]], \"type\": \"contour\"}], \"contourcarpet\": [{\"colorbar\": {\"outlinewidth\": 0, \"ticks\": \"\"}, \"type\": \"contourcarpet\"}], \"heatmap\": [{\"colorbar\": {\"outlinewidth\": 0, \"ticks\": \"\"}, \"colorscale\": [[0.0, \"#0d0887\"], [0.1111111111111111, \"#46039f\"], [0.2222222222222222, \"#7201a8\"], [0.3333333333333333, \"#9c179e\"], [0.4444444444444444, \"#bd3786\"], [0.5555555555555556, \"#d8576b\"], [0.6666666666666666, \"#ed7953\"], [0.7777777777777778, \"#fb9f3a\"], [0.8888888888888888, \"#fdca26\"], [1.0, \"#f0f921\"]], \"type\": \"heatmap\"}], \"heatmapgl\": [{\"colorbar\": {\"outlinewidth\": 0, \"ticks\": \"\"}, \"colorscale\": [[0.0, \"#0d0887\"], [0.1111111111111111, \"#46039f\"], [0.2222222222222222, \"#7201a8\"], [0.3333333333333333, \"#9c179e\"], [0.4444444444444444, \"#bd3786\"], [0.5555555555555556, \"#d8576b\"], [0.6666666666666666, \"#ed7953\"], [0.7777777777777778, \"#fb9f3a\"], [0.8888888888888888, \"#fdca26\"], [1.0, \"#f0f921\"]], \"type\": \"heatmapgl\"}], \"histogram\": [{\"marker\": {\"colorbar\": {\"outlinewidth\": 0, \"ticks\": \"\"}}, \"type\": \"histogram\"}], \"histogram2d\": [{\"colorbar\": {\"outlinewidth\": 0, \"ticks\": \"\"}, \"colorscale\": [[0.0, \"#0d0887\"], [0.1111111111111111, \"#46039f\"], [0.2222222222222222, \"#7201a8\"], [0.3333333333333333, \"#9c179e\"], [0.4444444444444444, \"#bd3786\"], [0.5555555555555556, \"#d8576b\"], [0.6666666666666666, \"#ed7953\"], [0.7777777777777778, \"#fb9f3a\"], [0.8888888888888888, \"#fdca26\"], [1.0, \"#f0f921\"]], \"type\": \"histogram2d\"}], \"histogram2dcontour\": [{\"colorbar\": {\"outlinewidth\": 0, \"ticks\": \"\"}, \"colorscale\": [[0.0, \"#0d0887\"], [0.1111111111111111, \"#46039f\"], [0.2222222222222222, \"#7201a8\"], [0.3333333333333333, \"#9c179e\"], [0.4444444444444444, \"#bd3786\"], [0.5555555555555556, \"#d8576b\"], [0.6666666666666666, \"#ed7953\"], [0.7777777777777778, \"#fb9f3a\"], [0.8888888888888888, \"#fdca26\"], [1.0, \"#f0f921\"]], \"type\": \"histogram2dcontour\"}], \"mesh3d\": [{\"colorbar\": {\"outlinewidth\": 0, \"ticks\": \"\"}, \"type\": \"mesh3d\"}], \"parcoords\": [{\"line\": {\"colorbar\": {\"outlinewidth\": 0, \"ticks\": \"\"}}, \"type\": \"parcoords\"}], \"pie\": [{\"automargin\": true, \"type\": \"pie\"}], \"scatter\": [{\"marker\": {\"colorbar\": {\"outlinewidth\": 0, \"ticks\": \"\"}}, \"type\": \"scatter\"}], \"scatter3d\": [{\"line\": {\"colorbar\": {\"outlinewidth\": 0, \"ticks\": \"\"}}, \"marker\": {\"colorbar\": {\"outlinewidth\": 0, \"ticks\": \"\"}}, \"type\": \"scatter3d\"}], \"scattercarpet\": [{\"marker\": {\"colorbar\": {\"outlinewidth\": 0, \"ticks\": \"\"}}, \"type\": \"scattercarpet\"}], \"scattergeo\": [{\"marker\": {\"colorbar\": {\"outlinewidth\": 0, \"ticks\": \"\"}}, \"type\": \"scattergeo\"}], \"scattergl\": [{\"marker\": {\"colorbar\": {\"outlinewidth\": 0, \"ticks\": \"\"}}, \"type\": \"scattergl\"}], \"scattermapbox\": [{\"marker\": {\"colorbar\": {\"outlinewidth\": 0, \"ticks\": \"\"}}, \"type\": \"scattermapbox\"}], \"scatterpolar\": [{\"marker\": {\"colorbar\": {\"outlinewidth\": 0, \"ticks\": \"\"}}, \"type\": \"scatterpolar\"}], \"scatterpolargl\": [{\"marker\": {\"colorbar\": {\"outlinewidth\": 0, \"ticks\": \"\"}}, \"type\": \"scatterpolargl\"}], \"scatterternary\": [{\"marker\": {\"colorbar\": {\"outlinewidth\": 0, \"ticks\": \"\"}}, \"type\": \"scatterternary\"}], \"surface\": [{\"colorbar\": {\"outlinewidth\": 0, \"ticks\": \"\"}, \"colorscale\": [[0.0, \"#0d0887\"], [0.1111111111111111, \"#46039f\"], [0.2222222222222222, \"#7201a8\"], [0.3333333333333333, \"#9c179e\"], [0.4444444444444444, \"#bd3786\"], [0.5555555555555556, \"#d8576b\"], [0.6666666666666666, \"#ed7953\"], [0.7777777777777778, \"#fb9f3a\"], [0.8888888888888888, \"#fdca26\"], [1.0, \"#f0f921\"]], \"type\": \"surface\"}], \"table\": [{\"cells\": {\"fill\": {\"color\": \"#EBF0F8\"}, \"line\": {\"color\": \"white\"}}, \"header\": {\"fill\": {\"color\": \"#C8D4E3\"}, \"line\": {\"color\": \"white\"}}, \"type\": \"table\"}]}, \"layout\": {\"annotationdefaults\": {\"arrowcolor\": \"#2a3f5f\", \"arrowhead\": 0, \"arrowwidth\": 1}, \"coloraxis\": {\"colorbar\": {\"outlinewidth\": 0, \"ticks\": \"\"}}, \"colorscale\": {\"diverging\": [[0, \"#8e0152\"], [0.1, \"#c51b7d\"], [0.2, \"#de77ae\"], [0.3, \"#f1b6da\"], [0.4, \"#fde0ef\"], [0.5, \"#f7f7f7\"], [0.6, \"#e6f5d0\"], [0.7, \"#b8e186\"], [0.8, \"#7fbc41\"], [0.9, \"#4d9221\"], [1, \"#276419\"]], \"sequential\": [[0.0, \"#0d0887\"], [0.1111111111111111, \"#46039f\"], [0.2222222222222222, \"#7201a8\"], [0.3333333333333333, \"#9c179e\"], [0.4444444444444444, \"#bd3786\"], [0.5555555555555556, \"#d8576b\"], [0.6666666666666666, \"#ed7953\"], [0.7777777777777778, \"#fb9f3a\"], [0.8888888888888888, \"#fdca26\"], [1.0, \"#f0f921\"]], \"sequentialminus\": [[0.0, \"#0d0887\"], [0.1111111111111111, \"#46039f\"], [0.2222222222222222, \"#7201a8\"], [0.3333333333333333, \"#9c179e\"], [0.4444444444444444, \"#bd3786\"], [0.5555555555555556, \"#d8576b\"], [0.6666666666666666, \"#ed7953\"], [0.7777777777777778, \"#fb9f3a\"], [0.8888888888888888, \"#fdca26\"], [1.0, \"#f0f921\"]]}, \"colorway\": [\"#636efa\", \"#EF553B\", \"#00cc96\", \"#ab63fa\", \"#FFA15A\", \"#19d3f3\", \"#FF6692\", \"#B6E880\", \"#FF97FF\", \"#FECB52\"], \"font\": {\"color\": \"#2a3f5f\"}, \"geo\": {\"bgcolor\": \"white\", \"lakecolor\": \"white\", \"landcolor\": \"#E5ECF6\", \"showlakes\": true, \"showland\": true, \"subunitcolor\": \"white\"}, \"hoverlabel\": {\"align\": \"left\"}, \"hovermode\": \"closest\", \"mapbox\": {\"style\": \"light\"}, \"paper_bgcolor\": \"white\", \"plot_bgcolor\": \"#E5ECF6\", \"polar\": {\"angularaxis\": {\"gridcolor\": \"white\", \"linecolor\": \"white\", \"ticks\": \"\"}, \"bgcolor\": \"#E5ECF6\", \"radialaxis\": {\"gridcolor\": \"white\", \"linecolor\": \"white\", \"ticks\": \"\"}}, \"scene\": {\"xaxis\": {\"backgroundcolor\": \"#E5ECF6\", \"gridcolor\": \"white\", \"gridwidth\": 2, \"linecolor\": \"white\", \"showbackground\": true, \"ticks\": \"\", \"zerolinecolor\": \"white\"}, \"yaxis\": {\"backgroundcolor\": \"#E5ECF6\", \"gridcolor\": \"white\", \"gridwidth\": 2, \"linecolor\": \"white\", \"showbackground\": true, \"ticks\": \"\", \"zerolinecolor\": \"white\"}, \"zaxis\": {\"backgroundcolor\": \"#E5ECF6\", \"gridcolor\": \"white\", \"gridwidth\": 2, \"linecolor\": \"white\", \"showbackground\": true, \"ticks\": \"\", \"zerolinecolor\": \"white\"}}, \"shapedefaults\": {\"line\": {\"color\": \"#2a3f5f\"}}, \"ternary\": {\"aaxis\": {\"gridcolor\": \"white\", \"linecolor\": \"white\", \"ticks\": \"\"}, \"baxis\": {\"gridcolor\": \"white\", \"linecolor\": \"white\", \"ticks\": \"\"}, \"bgcolor\": \"#E5ECF6\", \"caxis\": {\"gridcolor\": \"white\", \"linecolor\": \"white\", \"ticks\": \"\"}}, \"title\": {\"x\": 0.05}, \"xaxis\": {\"automargin\": true, \"gridcolor\": \"white\", \"linecolor\": \"white\", \"ticks\": \"\", \"title\": {\"standoff\": 15}, \"zerolinecolor\": \"white\", \"zerolinewidth\": 2}, \"yaxis\": {\"automargin\": true, \"gridcolor\": \"white\", \"linecolor\": \"white\", \"ticks\": \"\", \"title\": {\"standoff\": 15}, \"zerolinecolor\": \"white\", \"zerolinewidth\": 2}}}, \"title\": {\"text\": \"Recovered cases per month\"}, \"xaxis\": {\"rangeslider\": {\"visible\": true}}},\n",
              "                        {\"responsive\": true}\n",
              "                    ).then(function(){\n",
              "                            \n",
              "var gd = document.getElementById('bd467162-318e-4955-a830-167659caa123');\n",
              "var x = new MutationObserver(function (mutations, observer) {{\n",
              "        var display = window.getComputedStyle(gd).display;\n",
              "        if (!display || display === 'none') {{\n",
              "            console.log([gd, 'removed!']);\n",
              "            Plotly.purge(gd);\n",
              "            observer.disconnect();\n",
              "        }}\n",
              "}});\n",
              "\n",
              "// Listen for the removal of the full notebook cells\n",
              "var notebookContainer = gd.closest('#notebook-container');\n",
              "if (notebookContainer) {{\n",
              "    x.observe(notebookContainer, {childList: true});\n",
              "}}\n",
              "\n",
              "// Listen for the clearing of the current output cell\n",
              "var outputEl = gd.closest('.output');\n",
              "if (outputEl) {{\n",
              "    x.observe(outputEl, {childList: true});\n",
              "}}\n",
              "\n",
              "                        })\n",
              "                };\n",
              "                \n",
              "            </script>\n",
              "        </div>\n",
              "</body>\n",
              "</html>"
            ]
          },
          "metadata": {
            "tags": []
          }
        }
      ]
    },
    {
      "cell_type": "code",
      "metadata": {
        "id": "Ep5Woi5Jeuak",
        "colab_type": "code",
        "colab": {
          "base_uri": "https://localhost:8080/",
          "height": 197
        },
        "outputId": "e9e2a92c-c3a9-49b2-90aa-5ee5f73c130c"
      },
      "source": [
        "covid_dataset_grouped_country = covid_dataset.groupby(['Date','Country'])['Confirmed', 'Deaths', 'Recovered'].sum().reset_index()\n",
        "covid_dataset_grouped_country = covid_dataset_grouped_country[covid_dataset_grouped_country['Date'] == max(covid_dataset_grouped_country['Date'])].reset_index()\n",
        "covid_dataset_grouped_country = covid_dataset_grouped_country.groupby('Country')['Confirmed', 'Deaths', 'Recovered'].sum().reset_index()\n",
        "covid_dataset_grouped_country.head() "
      ],
      "execution_count": null,
      "outputs": [
        {
          "output_type": "execute_result",
          "data": {
            "text/html": [
              "<div>\n",
              "<style scoped>\n",
              "    .dataframe tbody tr th:only-of-type {\n",
              "        vertical-align: middle;\n",
              "    }\n",
              "\n",
              "    .dataframe tbody tr th {\n",
              "        vertical-align: top;\n",
              "    }\n",
              "\n",
              "    .dataframe thead th {\n",
              "        text-align: right;\n",
              "    }\n",
              "</style>\n",
              "<table border=\"1\" class=\"dataframe\">\n",
              "  <thead>\n",
              "    <tr style=\"text-align: right;\">\n",
              "      <th></th>\n",
              "      <th>Country</th>\n",
              "      <th>Confirmed</th>\n",
              "      <th>Deaths</th>\n",
              "      <th>Recovered</th>\n",
              "    </tr>\n",
              "  </thead>\n",
              "  <tbody>\n",
              "    <tr>\n",
              "      <th>0</th>\n",
              "      <td>Afghanistan</td>\n",
              "      <td>16.0</td>\n",
              "      <td>0.0</td>\n",
              "      <td>0.0</td>\n",
              "    </tr>\n",
              "    <tr>\n",
              "      <th>1</th>\n",
              "      <td>Albania</td>\n",
              "      <td>42.0</td>\n",
              "      <td>1.0</td>\n",
              "      <td>0.0</td>\n",
              "    </tr>\n",
              "    <tr>\n",
              "      <th>2</th>\n",
              "      <td>Algeria</td>\n",
              "      <td>48.0</td>\n",
              "      <td>4.0</td>\n",
              "      <td>12.0</td>\n",
              "    </tr>\n",
              "    <tr>\n",
              "      <th>3</th>\n",
              "      <td>Antigua and Barbuda</td>\n",
              "      <td>1.0</td>\n",
              "      <td>0.0</td>\n",
              "      <td>0.0</td>\n",
              "    </tr>\n",
              "    <tr>\n",
              "      <th>4</th>\n",
              "      <td>Argentina</td>\n",
              "      <td>45.0</td>\n",
              "      <td>2.0</td>\n",
              "      <td>1.0</td>\n",
              "    </tr>\n",
              "  </tbody>\n",
              "</table>\n",
              "</div>"
            ],
            "text/plain": [
              "               Country  Confirmed  Deaths  Recovered\n",
              "0          Afghanistan       16.0     0.0        0.0\n",
              "1              Albania       42.0     1.0        0.0\n",
              "2              Algeria       48.0     4.0       12.0\n",
              "3  Antigua and Barbuda        1.0     0.0        0.0\n",
              "4            Argentina       45.0     2.0        1.0"
            ]
          },
          "metadata": {
            "tags": []
          },
          "execution_count": 33
        }
      ]
    },
    {
      "cell_type": "code",
      "metadata": {
        "id": "NE1OGrMYvrcb",
        "colab_type": "code",
        "colab": {
          "base_uri": "https://localhost:8080/",
          "height": 70
        },
        "outputId": "720136d9-3288-4676-ee4c-dea73ad70535"
      },
      "source": [
        "!pip install plotly==4.5.2"
      ],
      "execution_count": null,
      "outputs": [
        {
          "output_type": "stream",
          "text": [
            "Requirement already satisfied: plotly==4.5.2 in /usr/local/lib/python3.6/dist-packages (4.5.2)\n",
            "Requirement already satisfied: retrying>=1.3.3 in /usr/local/lib/python3.6/dist-packages (from plotly==4.5.2) (1.3.3)\n",
            "Requirement already satisfied: six in /usr/local/lib/python3.6/dist-packages (from plotly==4.5.2) (1.12.0)\n"
          ],
          "name": "stdout"
        }
      ]
    },
    {
      "cell_type": "code",
      "metadata": {
        "id": "xMlKeVM9tgUO",
        "colab_type": "code",
        "colab": {
          "base_uri": "https://localhost:8080/",
          "height": 542
        },
        "outputId": "221d87a9-5cf2-4919-b029-2dd98ec11f02"
      },
      "source": [
        "import plotly.express as px\n",
        "fig = px.treemap(covid_dataset_grouped_country.sort_values(by='Confirmed', ascending=False).reset_index(drop=True), \n",
        "                 path=[\"Country\"], values=\"Confirmed\", title='COVID-19',\n",
        "                 color_discrete_sequence = px.colors.qualitative.Dark2)\n",
        "fig.show()"
      ],
      "execution_count": null,
      "outputs": [
        {
          "output_type": "display_data",
          "data": {
            "text/html": [
              "<html>\n",
              "<head><meta charset=\"utf-8\" /></head>\n",
              "<body>\n",
              "    <div>\n",
              "            <script src=\"https://cdnjs.cloudflare.com/ajax/libs/mathjax/2.7.5/MathJax.js?config=TeX-AMS-MML_SVG\"></script><script type=\"text/javascript\">if (window.MathJax) {MathJax.Hub.Config({SVG: {font: \"STIX-Web\"}});}</script>\n",
              "                <script type=\"text/javascript\">window.PlotlyConfig = {MathJaxConfig: 'local'};</script>\n",
              "        <script src=\"https://cdn.plot.ly/plotly-latest.min.js\"></script>    \n",
              "            <div id=\"02f97e5b-13b2-4d5a-b400-dd2bca7aba0c\" class=\"plotly-graph-div\" style=\"height:525px; width:100%;\"></div>\n",
              "            <script type=\"text/javascript\">\n",
              "                \n",
              "                    window.PLOTLYENV=window.PLOTLYENV || {};\n",
              "                    \n",
              "                if (document.getElementById(\"02f97e5b-13b2-4d5a-b400-dd2bca7aba0c\")) {\n",
              "                    Plotly.newPlot(\n",
              "                        '02f97e5b-13b2-4d5a-b400-dd2bca7aba0c',\n",
              "                        [{\"branchvalues\": \"total\", \"domain\": {\"x\": [0.0, 1.0], \"y\": [0.0, 1.0]}, \"hoverlabel\": {\"namelength\": 0}, \"hovertemplate\": \"labels=%{label}<br>Confirmed=%{value}<br>parent=%{parent}<br>id=%{id}\", \"ids\": [\"Afghanistan\", \"Albania\", \"Algeria\", \"Antigua and Barbuda\", \"Argentina\", \"Armenia\", \"Australia\", \"Austria\", \"Bangladesh\", \"Belgium\", \"Bosnia and Herzegovina\", \"Brazil\", \"Brunei\", \"Bulgaria\", \"Canada\", \"Central African Republic\", \"Colombia\", \"Congo (Brazzaville)\", \"Costa Rica\", \"Croatia\", \"Czech Republic\", \"Denmark\", \"Egypt\", \"Equatorial Guinea\", \"Estonia\", \"Eswatini\", \"Finland\", \"France\", \"Germany\", \"Ghana\", \"Greece\", \"Guinea\", \"Guyana\", \"Honduras\", \"Hong Kong\", \"Hungary\", \"Iceland\", \"India\", \"Indonesia\", \"Iran\", \"Israel\", \"Jordan\", \"Kazakhstan\", \"Kosovo\", \"Kuwait\", \"Latvia\", \"Lebanon\", \"Lithuania\", \"Luxembourg\", \"Mainland China\", \"Malaysia\", \"Maldives\", \"Malta\", \"Mauritania\", \"Mexico\", \"Morocco\", \"Netherlands\", \"New Zealand\", \"Norway\", \"Oman\", \"Pakistan\", \"Panama\", \"Peru\", \"Philippines\", \"Poland\", \"Portugal\", \"Reunion\", \"Romania\", \"Russia\", \"Rwanda\", \"San Marino\", \"Seychelles\", \"Singapore\", \"Slovakia\", \"Slovenia\", \"South Africa\", \"South Korea\", \"Spain\", \"Sri Lanka\", \"Sweden\", \"Switzerland\", \"Taiwan\", \"Thailand\", \"Turkey\", \"UK\", \"US\", \"United Arab Emirates\", \"Uzbekistan\", \"Venezuela\", \"Vietnam\"], \"labels\": [\"Afghanistan\", \"Albania\", \"Algeria\", \"Antigua and Barbuda\", \"Argentina\", \"Armenia\", \"Australia\", \"Austria\", \"Bangladesh\", \"Belgium\", \"Bosnia and Herzegovina\", \"Brazil\", \"Brunei\", \"Bulgaria\", \"Canada\", \"Central African Republic\", \"Colombia\", \"Congo (Brazzaville)\", \"Costa Rica\", \"Croatia\", \"Czech Republic\", \"Denmark\", \"Egypt\", \"Equatorial Guinea\", \"Estonia\", \"Eswatini\", \"Finland\", \"France\", \"Germany\", \"Ghana\", \"Greece\", \"Guinea\", \"Guyana\", \"Honduras\", \"Hong Kong\", \"Hungary\", \"Iceland\", \"India\", \"Indonesia\", \"Iran\", \"Israel\", \"Jordan\", \"Kazakhstan\", \"Kosovo\", \"Kuwait\", \"Latvia\", \"Lebanon\", \"Lithuania\", \"Luxembourg\", \"Mainland China\", \"Malaysia\", \"Maldives\", \"Malta\", \"Mauritania\", \"Mexico\", \"Morocco\", \"Netherlands\", \"New Zealand\", \"Norway\", \"Oman\", \"Pakistan\", \"Panama\", \"Peru\", \"Philippines\", \"Poland\", \"Portugal\", \"Reunion\", \"Romania\", \"Russia\", \"Rwanda\", \"San Marino\", \"Seychelles\", \"Singapore\", \"Slovakia\", \"Slovenia\", \"South Africa\", \"South Korea\", \"Spain\", \"Sri Lanka\", \"Sweden\", \"Switzerland\", \"Taiwan\", \"Thailand\", \"Turkey\", \"UK\", \"US\", \"United Arab Emirates\", \"Uzbekistan\", \"Venezuela\", \"Vietnam\"], \"name\": \"\", \"parents\": [\"\", \"\", \"\", \"\", \"\", \"\", \"\", \"\", \"\", \"\", \"\", \"\", \"\", \"\", \"\", \"\", \"\", \"\", \"\", \"\", \"\", \"\", \"\", \"\", \"\", \"\", \"\", \"\", \"\", \"\", \"\", \"\", \"\", \"\", \"\", \"\", \"\", \"\", \"\", \"\", \"\", \"\", \"\", \"\", \"\", \"\", \"\", \"\", \"\", \"\", \"\", \"\", \"\", \"\", \"\", \"\", \"\", \"\", \"\", \"\", \"\", \"\", \"\", \"\", \"\", \"\", \"\", \"\", \"\", \"\", \"\", \"\", \"\", \"\", \"\", \"\", \"\", \"\", \"\", \"\", \"\", \"\", \"\", \"\", \"\", \"\", \"\", \"\", \"\", \"\"], \"type\": \"treemap\", \"values\": [16.0, 42.0, 48.0, 1.0, 45.0, 26.0, 278.0, 860.0, 5.0, 886.0, 24.0, 162.0, 50.0, 51.0, 244.0, 1.0, 34.0, 1.0, 27.0, 49.0, 253.0, 875.0, 110.0, 1.0, 171.0, 1.0, 244.0, 4509.0, 5795.0, 6.0, 331.0, 1.0, 4.0, 3.0, 145.0, 32.0, 171.0, 113.0, 117.0, 13938.0, 251.0, 8.0, 9.0, 2.0, 112.0, 30.0, 110.0, 12.0, 59.0, 73449.0, 428.0, 13.0, 21.0, 1.0, 41.0, 28.0, 1135.0, 8.0, 1221.0, 22.0, 53.0, 43.0, 43.0, 140.0, 119.0, 245.0, 7.0, 131.0, 63.0, 1.0, 101.0, 2.0, 226.0, 54.0, 219.0, 51.0, 8162.0, 7798.0, 18.0, 1022.0, 2200.0, 59.0, 114.0, 6.0, 3.0, 2877.0, 98.0, 1.0, 10.0, 56.0]}],\n",
              "                        {\"legend\": {\"tracegroupgap\": 0}, \"template\": {\"data\": {\"bar\": [{\"error_x\": {\"color\": \"#2a3f5f\"}, \"error_y\": {\"color\": \"#2a3f5f\"}, \"marker\": {\"line\": {\"color\": \"#E5ECF6\", \"width\": 0.5}}, \"type\": \"bar\"}], \"barpolar\": [{\"marker\": {\"line\": {\"color\": \"#E5ECF6\", \"width\": 0.5}}, \"type\": \"barpolar\"}], \"carpet\": [{\"aaxis\": {\"endlinecolor\": \"#2a3f5f\", \"gridcolor\": \"white\", \"linecolor\": \"white\", \"minorgridcolor\": \"white\", \"startlinecolor\": \"#2a3f5f\"}, \"baxis\": {\"endlinecolor\": \"#2a3f5f\", \"gridcolor\": \"white\", \"linecolor\": \"white\", \"minorgridcolor\": \"white\", \"startlinecolor\": \"#2a3f5f\"}, \"type\": \"carpet\"}], \"choropleth\": [{\"colorbar\": {\"outlinewidth\": 0, \"ticks\": \"\"}, \"type\": \"choropleth\"}], \"contour\": [{\"colorbar\": {\"outlinewidth\": 0, \"ticks\": \"\"}, \"colorscale\": [[0.0, \"#0d0887\"], [0.1111111111111111, \"#46039f\"], [0.2222222222222222, \"#7201a8\"], [0.3333333333333333, \"#9c179e\"], [0.4444444444444444, \"#bd3786\"], [0.5555555555555556, \"#d8576b\"], [0.6666666666666666, \"#ed7953\"], [0.7777777777777778, \"#fb9f3a\"], [0.8888888888888888, \"#fdca26\"], [1.0, \"#f0f921\"]], \"type\": \"contour\"}], \"contourcarpet\": [{\"colorbar\": {\"outlinewidth\": 0, \"ticks\": \"\"}, \"type\": \"contourcarpet\"}], \"heatmap\": [{\"colorbar\": {\"outlinewidth\": 0, \"ticks\": \"\"}, \"colorscale\": [[0.0, \"#0d0887\"], [0.1111111111111111, \"#46039f\"], [0.2222222222222222, \"#7201a8\"], [0.3333333333333333, \"#9c179e\"], [0.4444444444444444, \"#bd3786\"], [0.5555555555555556, \"#d8576b\"], [0.6666666666666666, \"#ed7953\"], [0.7777777777777778, \"#fb9f3a\"], [0.8888888888888888, \"#fdca26\"], [1.0, \"#f0f921\"]], \"type\": \"heatmap\"}], \"heatmapgl\": [{\"colorbar\": {\"outlinewidth\": 0, \"ticks\": \"\"}, \"colorscale\": [[0.0, \"#0d0887\"], [0.1111111111111111, \"#46039f\"], [0.2222222222222222, \"#7201a8\"], [0.3333333333333333, \"#9c179e\"], [0.4444444444444444, \"#bd3786\"], [0.5555555555555556, \"#d8576b\"], [0.6666666666666666, \"#ed7953\"], [0.7777777777777778, \"#fb9f3a\"], [0.8888888888888888, \"#fdca26\"], [1.0, \"#f0f921\"]], \"type\": \"heatmapgl\"}], \"histogram\": [{\"marker\": {\"colorbar\": {\"outlinewidth\": 0, \"ticks\": \"\"}}, \"type\": \"histogram\"}], \"histogram2d\": [{\"colorbar\": {\"outlinewidth\": 0, \"ticks\": \"\"}, \"colorscale\": [[0.0, \"#0d0887\"], [0.1111111111111111, \"#46039f\"], [0.2222222222222222, \"#7201a8\"], [0.3333333333333333, \"#9c179e\"], [0.4444444444444444, \"#bd3786\"], [0.5555555555555556, \"#d8576b\"], [0.6666666666666666, \"#ed7953\"], [0.7777777777777778, \"#fb9f3a\"], [0.8888888888888888, \"#fdca26\"], [1.0, \"#f0f921\"]], \"type\": \"histogram2d\"}], \"histogram2dcontour\": [{\"colorbar\": {\"outlinewidth\": 0, \"ticks\": \"\"}, \"colorscale\": [[0.0, \"#0d0887\"], [0.1111111111111111, \"#46039f\"], [0.2222222222222222, \"#7201a8\"], [0.3333333333333333, \"#9c179e\"], [0.4444444444444444, \"#bd3786\"], [0.5555555555555556, \"#d8576b\"], [0.6666666666666666, \"#ed7953\"], [0.7777777777777778, \"#fb9f3a\"], [0.8888888888888888, \"#fdca26\"], [1.0, \"#f0f921\"]], \"type\": \"histogram2dcontour\"}], \"mesh3d\": [{\"colorbar\": {\"outlinewidth\": 0, \"ticks\": \"\"}, \"type\": \"mesh3d\"}], \"parcoords\": [{\"line\": {\"colorbar\": {\"outlinewidth\": 0, \"ticks\": \"\"}}, \"type\": \"parcoords\"}], \"pie\": [{\"automargin\": true, \"type\": \"pie\"}], \"scatter\": [{\"marker\": {\"colorbar\": {\"outlinewidth\": 0, \"ticks\": \"\"}}, \"type\": \"scatter\"}], \"scatter3d\": [{\"line\": {\"colorbar\": {\"outlinewidth\": 0, \"ticks\": \"\"}}, \"marker\": {\"colorbar\": {\"outlinewidth\": 0, \"ticks\": \"\"}}, \"type\": \"scatter3d\"}], \"scattercarpet\": [{\"marker\": {\"colorbar\": {\"outlinewidth\": 0, \"ticks\": \"\"}}, \"type\": \"scattercarpet\"}], \"scattergeo\": [{\"marker\": {\"colorbar\": {\"outlinewidth\": 0, \"ticks\": \"\"}}, \"type\": \"scattergeo\"}], \"scattergl\": [{\"marker\": {\"colorbar\": {\"outlinewidth\": 0, \"ticks\": \"\"}}, \"type\": \"scattergl\"}], \"scattermapbox\": [{\"marker\": {\"colorbar\": {\"outlinewidth\": 0, \"ticks\": \"\"}}, \"type\": \"scattermapbox\"}], \"scatterpolar\": [{\"marker\": {\"colorbar\": {\"outlinewidth\": 0, \"ticks\": \"\"}}, \"type\": \"scatterpolar\"}], \"scatterpolargl\": [{\"marker\": {\"colorbar\": {\"outlinewidth\": 0, \"ticks\": \"\"}}, \"type\": \"scatterpolargl\"}], \"scatterternary\": [{\"marker\": {\"colorbar\": {\"outlinewidth\": 0, \"ticks\": \"\"}}, \"type\": \"scatterternary\"}], \"surface\": [{\"colorbar\": {\"outlinewidth\": 0, \"ticks\": \"\"}, \"colorscale\": [[0.0, \"#0d0887\"], [0.1111111111111111, \"#46039f\"], [0.2222222222222222, \"#7201a8\"], [0.3333333333333333, \"#9c179e\"], [0.4444444444444444, \"#bd3786\"], [0.5555555555555556, \"#d8576b\"], [0.6666666666666666, \"#ed7953\"], [0.7777777777777778, \"#fb9f3a\"], [0.8888888888888888, \"#fdca26\"], [1.0, \"#f0f921\"]], \"type\": \"surface\"}], \"table\": [{\"cells\": {\"fill\": {\"color\": \"#EBF0F8\"}, \"line\": {\"color\": \"white\"}}, \"header\": {\"fill\": {\"color\": \"#C8D4E3\"}, \"line\": {\"color\": \"white\"}}, \"type\": \"table\"}]}, \"layout\": {\"annotationdefaults\": {\"arrowcolor\": \"#2a3f5f\", \"arrowhead\": 0, \"arrowwidth\": 1}, \"coloraxis\": {\"colorbar\": {\"outlinewidth\": 0, \"ticks\": \"\"}}, \"colorscale\": {\"diverging\": [[0, \"#8e0152\"], [0.1, \"#c51b7d\"], [0.2, \"#de77ae\"], [0.3, \"#f1b6da\"], [0.4, \"#fde0ef\"], [0.5, \"#f7f7f7\"], [0.6, \"#e6f5d0\"], [0.7, \"#b8e186\"], [0.8, \"#7fbc41\"], [0.9, \"#4d9221\"], [1, \"#276419\"]], \"sequential\": [[0.0, \"#0d0887\"], [0.1111111111111111, \"#46039f\"], [0.2222222222222222, \"#7201a8\"], [0.3333333333333333, \"#9c179e\"], [0.4444444444444444, \"#bd3786\"], [0.5555555555555556, \"#d8576b\"], [0.6666666666666666, \"#ed7953\"], [0.7777777777777778, \"#fb9f3a\"], [0.8888888888888888, \"#fdca26\"], [1.0, \"#f0f921\"]], \"sequentialminus\": [[0.0, \"#0d0887\"], [0.1111111111111111, \"#46039f\"], [0.2222222222222222, \"#7201a8\"], [0.3333333333333333, \"#9c179e\"], [0.4444444444444444, \"#bd3786\"], [0.5555555555555556, \"#d8576b\"], [0.6666666666666666, \"#ed7953\"], [0.7777777777777778, \"#fb9f3a\"], [0.8888888888888888, \"#fdca26\"], [1.0, \"#f0f921\"]]}, \"colorway\": [\"#636efa\", \"#EF553B\", \"#00cc96\", \"#ab63fa\", \"#FFA15A\", \"#19d3f3\", \"#FF6692\", \"#B6E880\", \"#FF97FF\", \"#FECB52\"], \"font\": {\"color\": \"#2a3f5f\"}, \"geo\": {\"bgcolor\": \"white\", \"lakecolor\": \"white\", \"landcolor\": \"#E5ECF6\", \"showlakes\": true, \"showland\": true, \"subunitcolor\": \"white\"}, \"hoverlabel\": {\"align\": \"left\"}, \"hovermode\": \"closest\", \"mapbox\": {\"style\": \"light\"}, \"paper_bgcolor\": \"white\", \"plot_bgcolor\": \"#E5ECF6\", \"polar\": {\"angularaxis\": {\"gridcolor\": \"white\", \"linecolor\": \"white\", \"ticks\": \"\"}, \"bgcolor\": \"#E5ECF6\", \"radialaxis\": {\"gridcolor\": \"white\", \"linecolor\": \"white\", \"ticks\": \"\"}}, \"scene\": {\"xaxis\": {\"backgroundcolor\": \"#E5ECF6\", \"gridcolor\": \"white\", \"gridwidth\": 2, \"linecolor\": \"white\", \"showbackground\": true, \"ticks\": \"\", \"zerolinecolor\": \"white\"}, \"yaxis\": {\"backgroundcolor\": \"#E5ECF6\", \"gridcolor\": \"white\", \"gridwidth\": 2, \"linecolor\": \"white\", \"showbackground\": true, \"ticks\": \"\", \"zerolinecolor\": \"white\"}, \"zaxis\": {\"backgroundcolor\": \"#E5ECF6\", \"gridcolor\": \"white\", \"gridwidth\": 2, \"linecolor\": \"white\", \"showbackground\": true, \"ticks\": \"\", \"zerolinecolor\": \"white\"}}, \"shapedefaults\": {\"line\": {\"color\": \"#2a3f5f\"}}, \"ternary\": {\"aaxis\": {\"gridcolor\": \"white\", \"linecolor\": \"white\", \"ticks\": \"\"}, \"baxis\": {\"gridcolor\": \"white\", \"linecolor\": \"white\", \"ticks\": \"\"}, \"bgcolor\": \"#E5ECF6\", \"caxis\": {\"gridcolor\": \"white\", \"linecolor\": \"white\", \"ticks\": \"\"}}, \"title\": {\"x\": 0.05}, \"xaxis\": {\"automargin\": true, \"gridcolor\": \"white\", \"linecolor\": \"white\", \"ticks\": \"\", \"title\": {\"standoff\": 15}, \"zerolinecolor\": \"white\", \"zerolinewidth\": 2}, \"yaxis\": {\"automargin\": true, \"gridcolor\": \"white\", \"linecolor\": \"white\", \"ticks\": \"\", \"title\": {\"standoff\": 15}, \"zerolinecolor\": \"white\", \"zerolinewidth\": 2}}}, \"title\": {\"text\": \"COVID-19\"}, \"treemapcolorway\": [\"rgb(27,158,119)\", \"rgb(217,95,2)\", \"rgb(117,112,179)\", \"rgb(231,41,138)\", \"rgb(102,166,30)\", \"rgb(230,171,2)\", \"rgb(166,118,29)\", \"rgb(102,102,102)\"]},\n",
              "                        {\"responsive\": true}\n",
              "                    ).then(function(){\n",
              "                            \n",
              "var gd = document.getElementById('02f97e5b-13b2-4d5a-b400-dd2bca7aba0c');\n",
              "var x = new MutationObserver(function (mutations, observer) {{\n",
              "        var display = window.getComputedStyle(gd).display;\n",
              "        if (!display || display === 'none') {{\n",
              "            console.log([gd, 'removed!']);\n",
              "            Plotly.purge(gd);\n",
              "            observer.disconnect();\n",
              "        }}\n",
              "}});\n",
              "\n",
              "// Listen for the removal of the full notebook cells\n",
              "var notebookContainer = gd.closest('#notebook-container');\n",
              "if (notebookContainer) {{\n",
              "    x.observe(notebookContainer, {childList: true});\n",
              "}}\n",
              "\n",
              "// Listen for the clearing of the current output cell\n",
              "var outputEl = gd.closest('.output');\n",
              "if (outputEl) {{\n",
              "    x.observe(outputEl, {childList: true});\n",
              "}}\n",
              "\n",
              "                        })\n",
              "                };\n",
              "                \n",
              "            </script>\n",
              "        </div>\n",
              "</body>\n",
              "</html>"
            ]
          },
          "metadata": {
            "tags": []
          }
        }
      ]
    },
    {
      "cell_type": "code",
      "metadata": {
        "id": "WdVuVfpYzYqY",
        "colab_type": "code",
        "colab": {
          "base_uri": "https://localhost:8080/",
          "height": 197
        },
        "outputId": "c7014514-2577-47cd-ce00-dd6198834d32"
      },
      "source": [
        "ebola_dataset_grouped_country = ebola_dataset.groupby(['Date' , 'Country'])['Confirmed', 'Deaths'].sum().reset_index()\n",
        "ebola_dataset_grouped_country = ebola_dataset_grouped_country[ebola_dataset_grouped_country['Date'] == max(ebola_dataset_grouped_country['Date'])].reset_index()\n",
        "ebola_dataset_grouped_country = ebola_dataset_grouped_country.groupby('Country')['Confirmed', 'Deaths'].sum().reset_index()\n",
        "ebola_dataset_grouped_country.tail() "
      ],
      "execution_count": null,
      "outputs": [
        {
          "output_type": "execute_result",
          "data": {
            "text/html": [
              "<div>\n",
              "<style scoped>\n",
              "    .dataframe tbody tr th:only-of-type {\n",
              "        vertical-align: middle;\n",
              "    }\n",
              "\n",
              "    .dataframe tbody tr th {\n",
              "        vertical-align: top;\n",
              "    }\n",
              "\n",
              "    .dataframe thead th {\n",
              "        text-align: right;\n",
              "    }\n",
              "</style>\n",
              "<table border=\"1\" class=\"dataframe\">\n",
              "  <thead>\n",
              "    <tr style=\"text-align: right;\">\n",
              "      <th></th>\n",
              "      <th>Country</th>\n",
              "      <th>Confirmed</th>\n",
              "      <th>Deaths</th>\n",
              "    </tr>\n",
              "  </thead>\n",
              "  <tbody>\n",
              "    <tr>\n",
              "      <th>5</th>\n",
              "      <td>Senegal</td>\n",
              "      <td>1.0</td>\n",
              "      <td>0.0</td>\n",
              "    </tr>\n",
              "    <tr>\n",
              "      <th>6</th>\n",
              "      <td>Sierra Leone</td>\n",
              "      <td>14122.0</td>\n",
              "      <td>3955.0</td>\n",
              "    </tr>\n",
              "    <tr>\n",
              "      <th>7</th>\n",
              "      <td>Spain</td>\n",
              "      <td>1.0</td>\n",
              "      <td>0.0</td>\n",
              "    </tr>\n",
              "    <tr>\n",
              "      <th>8</th>\n",
              "      <td>United Kingdom</td>\n",
              "      <td>1.0</td>\n",
              "      <td>0.0</td>\n",
              "    </tr>\n",
              "    <tr>\n",
              "      <th>9</th>\n",
              "      <td>United States of America</td>\n",
              "      <td>4.0</td>\n",
              "      <td>1.0</td>\n",
              "    </tr>\n",
              "  </tbody>\n",
              "</table>\n",
              "</div>"
            ],
            "text/plain": [
              "                    Country  Confirmed  Deaths\n",
              "5                   Senegal        1.0     0.0\n",
              "6              Sierra Leone    14122.0  3955.0\n",
              "7                     Spain        1.0     0.0\n",
              "8            United Kingdom        1.0     0.0\n",
              "9  United States of America        4.0     1.0"
            ]
          },
          "metadata": {
            "tags": []
          },
          "execution_count": 26
        }
      ]
    },
    {
      "cell_type": "code",
      "metadata": {
        "id": "wsyyIzEfzOJL",
        "colab_type": "code",
        "colab": {
          "base_uri": "https://localhost:8080/",
          "height": 542
        },
        "outputId": "740453e5-52b7-43be-a604-329dea8e8569"
      },
      "source": [
        "fig = px.treemap(ebola_dataset_grouped_country.sort_values(by='Confirmed', ascending=False).reset_index(drop=True), \n",
        "                 path=[\"Country\"], values=\"Confirmed\", title='Ebola',\n",
        "                 color_discrete_sequence = px.colors.qualitative.Dark2)\n",
        "fig.show()"
      ],
      "execution_count": null,
      "outputs": [
        {
          "output_type": "display_data",
          "data": {
            "text/html": [
              "<html>\n",
              "<head><meta charset=\"utf-8\" /></head>\n",
              "<body>\n",
              "    <div>\n",
              "            <script src=\"https://cdnjs.cloudflare.com/ajax/libs/mathjax/2.7.5/MathJax.js?config=TeX-AMS-MML_SVG\"></script><script type=\"text/javascript\">if (window.MathJax) {MathJax.Hub.Config({SVG: {font: \"STIX-Web\"}});}</script>\n",
              "                <script type=\"text/javascript\">window.PlotlyConfig = {MathJaxConfig: 'local'};</script>\n",
              "        <script src=\"https://cdn.plot.ly/plotly-latest.min.js\"></script>    \n",
              "            <div id=\"471b5606-f468-477e-809d-e68365935d6c\" class=\"plotly-graph-div\" style=\"height:525px; width:100%;\"></div>\n",
              "            <script type=\"text/javascript\">\n",
              "                \n",
              "                    window.PLOTLYENV=window.PLOTLYENV || {};\n",
              "                    \n",
              "                if (document.getElementById(\"471b5606-f468-477e-809d-e68365935d6c\")) {\n",
              "                    Plotly.newPlot(\n",
              "                        '471b5606-f468-477e-809d-e68365935d6c',\n",
              "                        [{\"branchvalues\": \"total\", \"domain\": {\"x\": [0.0, 1.0], \"y\": [0.0, 1.0]}, \"hoverlabel\": {\"namelength\": 0}, \"hovertemplate\": \"labels=%{label}<br>Confirmed=%{value}<br>parent=%{parent}<br>id=%{id}\", \"ids\": [\"Guinea\", \"Italy\", \"Liberia\", \"Mali\", \"Nigeria\", \"Senegal\", \"Sierra Leone\", \"Spain\", \"United Kingdom\", \"United States of America\"], \"labels\": [\"Guinea\", \"Italy\", \"Liberia\", \"Mali\", \"Nigeria\", \"Senegal\", \"Sierra Leone\", \"Spain\", \"United Kingdom\", \"United States of America\"], \"name\": \"\", \"parents\": [\"\", \"\", \"\", \"\", \"\", \"\", \"\", \"\", \"\", \"\"], \"type\": \"treemap\", \"values\": [3804.0, 1.0, 10680.0, 8.0, 20.0, 1.0, 14122.0, 1.0, 1.0, 4.0]}],\n",
              "                        {\"legend\": {\"tracegroupgap\": 0}, \"template\": {\"data\": {\"bar\": [{\"error_x\": {\"color\": \"#2a3f5f\"}, \"error_y\": {\"color\": \"#2a3f5f\"}, \"marker\": {\"line\": {\"color\": \"#E5ECF6\", \"width\": 0.5}}, \"type\": \"bar\"}], \"barpolar\": [{\"marker\": {\"line\": {\"color\": \"#E5ECF6\", \"width\": 0.5}}, \"type\": \"barpolar\"}], \"carpet\": [{\"aaxis\": {\"endlinecolor\": \"#2a3f5f\", \"gridcolor\": \"white\", \"linecolor\": \"white\", \"minorgridcolor\": \"white\", \"startlinecolor\": \"#2a3f5f\"}, \"baxis\": {\"endlinecolor\": \"#2a3f5f\", \"gridcolor\": \"white\", \"linecolor\": \"white\", \"minorgridcolor\": \"white\", \"startlinecolor\": \"#2a3f5f\"}, \"type\": \"carpet\"}], \"choropleth\": [{\"colorbar\": {\"outlinewidth\": 0, \"ticks\": \"\"}, \"type\": \"choropleth\"}], \"contour\": [{\"colorbar\": {\"outlinewidth\": 0, \"ticks\": \"\"}, \"colorscale\": [[0.0, \"#0d0887\"], [0.1111111111111111, \"#46039f\"], [0.2222222222222222, \"#7201a8\"], [0.3333333333333333, \"#9c179e\"], [0.4444444444444444, \"#bd3786\"], [0.5555555555555556, \"#d8576b\"], [0.6666666666666666, \"#ed7953\"], [0.7777777777777778, \"#fb9f3a\"], [0.8888888888888888, \"#fdca26\"], [1.0, \"#f0f921\"]], \"type\": \"contour\"}], \"contourcarpet\": [{\"colorbar\": {\"outlinewidth\": 0, \"ticks\": \"\"}, \"type\": \"contourcarpet\"}], \"heatmap\": [{\"colorbar\": {\"outlinewidth\": 0, \"ticks\": \"\"}, \"colorscale\": [[0.0, \"#0d0887\"], [0.1111111111111111, \"#46039f\"], [0.2222222222222222, \"#7201a8\"], [0.3333333333333333, \"#9c179e\"], [0.4444444444444444, \"#bd3786\"], [0.5555555555555556, \"#d8576b\"], [0.6666666666666666, \"#ed7953\"], [0.7777777777777778, \"#fb9f3a\"], [0.8888888888888888, \"#fdca26\"], [1.0, \"#f0f921\"]], \"type\": \"heatmap\"}], \"heatmapgl\": [{\"colorbar\": {\"outlinewidth\": 0, \"ticks\": \"\"}, \"colorscale\": [[0.0, \"#0d0887\"], [0.1111111111111111, \"#46039f\"], [0.2222222222222222, \"#7201a8\"], [0.3333333333333333, \"#9c179e\"], [0.4444444444444444, \"#bd3786\"], [0.5555555555555556, \"#d8576b\"], [0.6666666666666666, \"#ed7953\"], [0.7777777777777778, \"#fb9f3a\"], [0.8888888888888888, \"#fdca26\"], [1.0, \"#f0f921\"]], \"type\": \"heatmapgl\"}], \"histogram\": [{\"marker\": {\"colorbar\": {\"outlinewidth\": 0, \"ticks\": \"\"}}, \"type\": \"histogram\"}], \"histogram2d\": [{\"colorbar\": {\"outlinewidth\": 0, \"ticks\": \"\"}, \"colorscale\": [[0.0, \"#0d0887\"], [0.1111111111111111, \"#46039f\"], [0.2222222222222222, \"#7201a8\"], [0.3333333333333333, \"#9c179e\"], [0.4444444444444444, \"#bd3786\"], [0.5555555555555556, \"#d8576b\"], [0.6666666666666666, \"#ed7953\"], [0.7777777777777778, \"#fb9f3a\"], [0.8888888888888888, \"#fdca26\"], [1.0, \"#f0f921\"]], \"type\": \"histogram2d\"}], \"histogram2dcontour\": [{\"colorbar\": {\"outlinewidth\": 0, \"ticks\": \"\"}, \"colorscale\": [[0.0, \"#0d0887\"], [0.1111111111111111, \"#46039f\"], [0.2222222222222222, \"#7201a8\"], [0.3333333333333333, \"#9c179e\"], [0.4444444444444444, \"#bd3786\"], [0.5555555555555556, \"#d8576b\"], [0.6666666666666666, \"#ed7953\"], [0.7777777777777778, \"#fb9f3a\"], [0.8888888888888888, \"#fdca26\"], [1.0, \"#f0f921\"]], \"type\": \"histogram2dcontour\"}], \"mesh3d\": [{\"colorbar\": {\"outlinewidth\": 0, \"ticks\": \"\"}, \"type\": \"mesh3d\"}], \"parcoords\": [{\"line\": {\"colorbar\": {\"outlinewidth\": 0, \"ticks\": \"\"}}, \"type\": \"parcoords\"}], \"pie\": [{\"automargin\": true, \"type\": \"pie\"}], \"scatter\": [{\"marker\": {\"colorbar\": {\"outlinewidth\": 0, \"ticks\": \"\"}}, \"type\": \"scatter\"}], \"scatter3d\": [{\"line\": {\"colorbar\": {\"outlinewidth\": 0, \"ticks\": \"\"}}, \"marker\": {\"colorbar\": {\"outlinewidth\": 0, \"ticks\": \"\"}}, \"type\": \"scatter3d\"}], \"scattercarpet\": [{\"marker\": {\"colorbar\": {\"outlinewidth\": 0, \"ticks\": \"\"}}, \"type\": \"scattercarpet\"}], \"scattergeo\": [{\"marker\": {\"colorbar\": {\"outlinewidth\": 0, \"ticks\": \"\"}}, \"type\": \"scattergeo\"}], \"scattergl\": [{\"marker\": {\"colorbar\": {\"outlinewidth\": 0, \"ticks\": \"\"}}, \"type\": \"scattergl\"}], \"scattermapbox\": [{\"marker\": {\"colorbar\": {\"outlinewidth\": 0, \"ticks\": \"\"}}, \"type\": \"scattermapbox\"}], \"scatterpolar\": [{\"marker\": {\"colorbar\": {\"outlinewidth\": 0, \"ticks\": \"\"}}, \"type\": \"scatterpolar\"}], \"scatterpolargl\": [{\"marker\": {\"colorbar\": {\"outlinewidth\": 0, \"ticks\": \"\"}}, \"type\": \"scatterpolargl\"}], \"scatterternary\": [{\"marker\": {\"colorbar\": {\"outlinewidth\": 0, \"ticks\": \"\"}}, \"type\": \"scatterternary\"}], \"surface\": [{\"colorbar\": {\"outlinewidth\": 0, \"ticks\": \"\"}, \"colorscale\": [[0.0, \"#0d0887\"], [0.1111111111111111, \"#46039f\"], [0.2222222222222222, \"#7201a8\"], [0.3333333333333333, \"#9c179e\"], [0.4444444444444444, \"#bd3786\"], [0.5555555555555556, \"#d8576b\"], [0.6666666666666666, \"#ed7953\"], [0.7777777777777778, \"#fb9f3a\"], [0.8888888888888888, \"#fdca26\"], [1.0, \"#f0f921\"]], \"type\": \"surface\"}], \"table\": [{\"cells\": {\"fill\": {\"color\": \"#EBF0F8\"}, \"line\": {\"color\": \"white\"}}, \"header\": {\"fill\": {\"color\": \"#C8D4E3\"}, \"line\": {\"color\": \"white\"}}, \"type\": \"table\"}]}, \"layout\": {\"annotationdefaults\": {\"arrowcolor\": \"#2a3f5f\", \"arrowhead\": 0, \"arrowwidth\": 1}, \"coloraxis\": {\"colorbar\": {\"outlinewidth\": 0, \"ticks\": \"\"}}, \"colorscale\": {\"diverging\": [[0, \"#8e0152\"], [0.1, \"#c51b7d\"], [0.2, \"#de77ae\"], [0.3, \"#f1b6da\"], [0.4, \"#fde0ef\"], [0.5, \"#f7f7f7\"], [0.6, \"#e6f5d0\"], [0.7, \"#b8e186\"], [0.8, \"#7fbc41\"], [0.9, \"#4d9221\"], [1, \"#276419\"]], \"sequential\": [[0.0, \"#0d0887\"], [0.1111111111111111, \"#46039f\"], [0.2222222222222222, \"#7201a8\"], [0.3333333333333333, \"#9c179e\"], [0.4444444444444444, \"#bd3786\"], [0.5555555555555556, \"#d8576b\"], [0.6666666666666666, \"#ed7953\"], [0.7777777777777778, \"#fb9f3a\"], [0.8888888888888888, \"#fdca26\"], [1.0, \"#f0f921\"]], \"sequentialminus\": [[0.0, \"#0d0887\"], [0.1111111111111111, \"#46039f\"], [0.2222222222222222, \"#7201a8\"], [0.3333333333333333, \"#9c179e\"], [0.4444444444444444, \"#bd3786\"], [0.5555555555555556, \"#d8576b\"], [0.6666666666666666, \"#ed7953\"], [0.7777777777777778, \"#fb9f3a\"], [0.8888888888888888, \"#fdca26\"], [1.0, \"#f0f921\"]]}, \"colorway\": [\"#636efa\", \"#EF553B\", \"#00cc96\", \"#ab63fa\", \"#FFA15A\", \"#19d3f3\", \"#FF6692\", \"#B6E880\", \"#FF97FF\", \"#FECB52\"], \"font\": {\"color\": \"#2a3f5f\"}, \"geo\": {\"bgcolor\": \"white\", \"lakecolor\": \"white\", \"landcolor\": \"#E5ECF6\", \"showlakes\": true, \"showland\": true, \"subunitcolor\": \"white\"}, \"hoverlabel\": {\"align\": \"left\"}, \"hovermode\": \"closest\", \"mapbox\": {\"style\": \"light\"}, \"paper_bgcolor\": \"white\", \"plot_bgcolor\": \"#E5ECF6\", \"polar\": {\"angularaxis\": {\"gridcolor\": \"white\", \"linecolor\": \"white\", \"ticks\": \"\"}, \"bgcolor\": \"#E5ECF6\", \"radialaxis\": {\"gridcolor\": \"white\", \"linecolor\": \"white\", \"ticks\": \"\"}}, \"scene\": {\"xaxis\": {\"backgroundcolor\": \"#E5ECF6\", \"gridcolor\": \"white\", \"gridwidth\": 2, \"linecolor\": \"white\", \"showbackground\": true, \"ticks\": \"\", \"zerolinecolor\": \"white\"}, \"yaxis\": {\"backgroundcolor\": \"#E5ECF6\", \"gridcolor\": \"white\", \"gridwidth\": 2, \"linecolor\": \"white\", \"showbackground\": true, \"ticks\": \"\", \"zerolinecolor\": \"white\"}, \"zaxis\": {\"backgroundcolor\": \"#E5ECF6\", \"gridcolor\": \"white\", \"gridwidth\": 2, \"linecolor\": \"white\", \"showbackground\": true, \"ticks\": \"\", \"zerolinecolor\": \"white\"}}, \"shapedefaults\": {\"line\": {\"color\": \"#2a3f5f\"}}, \"ternary\": {\"aaxis\": {\"gridcolor\": \"white\", \"linecolor\": \"white\", \"ticks\": \"\"}, \"baxis\": {\"gridcolor\": \"white\", \"linecolor\": \"white\", \"ticks\": \"\"}, \"bgcolor\": \"#E5ECF6\", \"caxis\": {\"gridcolor\": \"white\", \"linecolor\": \"white\", \"ticks\": \"\"}}, \"title\": {\"x\": 0.05}, \"xaxis\": {\"automargin\": true, \"gridcolor\": \"white\", \"linecolor\": \"white\", \"ticks\": \"\", \"title\": {\"standoff\": 15}, \"zerolinecolor\": \"white\", \"zerolinewidth\": 2}, \"yaxis\": {\"automargin\": true, \"gridcolor\": \"white\", \"linecolor\": \"white\", \"ticks\": \"\", \"title\": {\"standoff\": 15}, \"zerolinecolor\": \"white\", \"zerolinewidth\": 2}}}, \"title\": {\"text\": \"Ebola\"}, \"treemapcolorway\": [\"rgb(27,158,119)\", \"rgb(217,95,2)\", \"rgb(117,112,179)\", \"rgb(231,41,138)\", \"rgb(102,166,30)\", \"rgb(230,171,2)\", \"rgb(166,118,29)\", \"rgb(102,102,102)\"]},\n",
              "                        {\"responsive\": true}\n",
              "                    ).then(function(){\n",
              "                            \n",
              "var gd = document.getElementById('471b5606-f468-477e-809d-e68365935d6c');\n",
              "var x = new MutationObserver(function (mutations, observer) {{\n",
              "        var display = window.getComputedStyle(gd).display;\n",
              "        if (!display || display === 'none') {{\n",
              "            console.log([gd, 'removed!']);\n",
              "            Plotly.purge(gd);\n",
              "            observer.disconnect();\n",
              "        }}\n",
              "}});\n",
              "\n",
              "// Listen for the removal of the full notebook cells\n",
              "var notebookContainer = gd.closest('#notebook-container');\n",
              "if (notebookContainer) {{\n",
              "    x.observe(notebookContainer, {childList: true});\n",
              "}}\n",
              "\n",
              "// Listen for the clearing of the current output cell\n",
              "var outputEl = gd.closest('.output');\n",
              "if (outputEl) {{\n",
              "    x.observe(outputEl, {childList: true});\n",
              "}}\n",
              "\n",
              "                        })\n",
              "                };\n",
              "                \n",
              "            </script>\n",
              "        </div>\n",
              "</body>\n",
              "</html>"
            ]
          },
          "metadata": {
            "tags": []
          }
        }
      ]
    },
    {
      "cell_type": "code",
      "metadata": {
        "id": "XufWFfqT04ng",
        "colab_type": "code",
        "colab": {
          "base_uri": "https://localhost:8080/",
          "height": 197
        },
        "outputId": "703dd252-770a-4414-f643-b60dd27bc045"
      },
      "source": [
        "sars_dataset_grouped_country = sars_dataset.groupby(['Date' , 'Country'])['Confirmed', 'Deaths'].sum().reset_index()\n",
        "sars_dataset_grouped_country = sars_dataset_grouped_country[sars_dataset_grouped_country['Date'] == max(sars_dataset_grouped_country['Date'])].reset_index()\n",
        "sars_dataset_grouped_country = sars_dataset_grouped_country.groupby('Country')['Confirmed', 'Deaths'].sum().reset_index()\n",
        "sars_dataset_grouped_country.tail()"
      ],
      "execution_count": null,
      "outputs": [
        {
          "output_type": "execute_result",
          "data": {
            "text/html": [
              "<div>\n",
              "<style scoped>\n",
              "    .dataframe tbody tr th:only-of-type {\n",
              "        vertical-align: middle;\n",
              "    }\n",
              "\n",
              "    .dataframe tbody tr th {\n",
              "        vertical-align: top;\n",
              "    }\n",
              "\n",
              "    .dataframe thead th {\n",
              "        text-align: right;\n",
              "    }\n",
              "</style>\n",
              "<table border=\"1\" class=\"dataframe\">\n",
              "  <thead>\n",
              "    <tr style=\"text-align: right;\">\n",
              "      <th></th>\n",
              "      <th>Country</th>\n",
              "      <th>Confirmed</th>\n",
              "      <th>Deaths</th>\n",
              "    </tr>\n",
              "  </thead>\n",
              "  <tbody>\n",
              "    <tr>\n",
              "      <th>26</th>\n",
              "      <td>Taiwan, China</td>\n",
              "      <td>671</td>\n",
              "      <td>84</td>\n",
              "    </tr>\n",
              "    <tr>\n",
              "      <th>27</th>\n",
              "      <td>Thailand</td>\n",
              "      <td>9</td>\n",
              "      <td>2</td>\n",
              "    </tr>\n",
              "    <tr>\n",
              "      <th>28</th>\n",
              "      <td>United Kingdom</td>\n",
              "      <td>4</td>\n",
              "      <td>0</td>\n",
              "    </tr>\n",
              "    <tr>\n",
              "      <th>29</th>\n",
              "      <td>United States</td>\n",
              "      <td>75</td>\n",
              "      <td>0</td>\n",
              "    </tr>\n",
              "    <tr>\n",
              "      <th>30</th>\n",
              "      <td>Viet Nam</td>\n",
              "      <td>63</td>\n",
              "      <td>5</td>\n",
              "    </tr>\n",
              "  </tbody>\n",
              "</table>\n",
              "</div>"
            ],
            "text/plain": [
              "           Country  Confirmed  Deaths\n",
              "26   Taiwan, China        671      84\n",
              "27        Thailand          9       2\n",
              "28  United Kingdom          4       0\n",
              "29   United States         75       0\n",
              "30        Viet Nam         63       5"
            ]
          },
          "metadata": {
            "tags": []
          },
          "execution_count": 29
        }
      ]
    },
    {
      "cell_type": "code",
      "metadata": {
        "id": "byU68PQ11LN4",
        "colab_type": "code",
        "colab": {
          "base_uri": "https://localhost:8080/",
          "height": 542
        },
        "outputId": "8be14da4-974d-45dc-a512-25944f01d739"
      },
      "source": [
        "fig = px.treemap(sars_dataset_grouped_country.sort_values(by='Confirmed', ascending=False).reset_index(drop=True), \n",
        "                 path=[\"Country\"], values=\"Confirmed\", title='Sars',\n",
        "                 color_discrete_sequence = px.colors.qualitative.Dark2)\n",
        "fig.show()"
      ],
      "execution_count": null,
      "outputs": [
        {
          "output_type": "display_data",
          "data": {
            "text/html": [
              "<html>\n",
              "<head><meta charset=\"utf-8\" /></head>\n",
              "<body>\n",
              "    <div>\n",
              "            <script src=\"https://cdnjs.cloudflare.com/ajax/libs/mathjax/2.7.5/MathJax.js?config=TeX-AMS-MML_SVG\"></script><script type=\"text/javascript\">if (window.MathJax) {MathJax.Hub.Config({SVG: {font: \"STIX-Web\"}});}</script>\n",
              "                <script type=\"text/javascript\">window.PlotlyConfig = {MathJaxConfig: 'local'};</script>\n",
              "        <script src=\"https://cdn.plot.ly/plotly-latest.min.js\"></script>    \n",
              "            <div id=\"8b8f2fc4-d62c-45a2-b814-75ae3d54b3d3\" class=\"plotly-graph-div\" style=\"height:525px; width:100%;\"></div>\n",
              "            <script type=\"text/javascript\">\n",
              "                \n",
              "                    window.PLOTLYENV=window.PLOTLYENV || {};\n",
              "                    \n",
              "                if (document.getElementById(\"8b8f2fc4-d62c-45a2-b814-75ae3d54b3d3\")) {\n",
              "                    Plotly.newPlot(\n",
              "                        '8b8f2fc4-d62c-45a2-b814-75ae3d54b3d3',\n",
              "                        [{\"branchvalues\": \"total\", \"domain\": {\"x\": [0.0, 1.0], \"y\": [0.0, 1.0]}, \"hoverlabel\": {\"namelength\": 0}, \"hovertemplate\": \"labels=%{label}<br>Confirmed=%{value}<br>parent=%{parent}<br>id=%{id}\", \"ids\": [\"Brazil\", \"Canada\", \"China\", \"Colombia\", \"Finland\", \"France\", \"Germany\", \"Hong Kong SAR, China\", \"India\", \"Indonesia\", \"Italy\", \"Kuwait\", \"Macao SAR, China\", \"Malaysia\", \"Mongolia\", \"New Zealand\", \"Philippines\", \"Republic of Ireland\", \"Republic of Korea\", \"Romania\", \"Russian Federation\", \"Singapore\", \"South Africa\", \"Spain\", \"Sweden\", \"Switzerland\", \"Taiwan, China\", \"Thailand\", \"United Kingdom\", \"United States\", \"Viet Nam\"], \"labels\": [\"Brazil\", \"Canada\", \"China\", \"Colombia\", \"Finland\", \"France\", \"Germany\", \"Hong Kong SAR, China\", \"India\", \"Indonesia\", \"Italy\", \"Kuwait\", \"Macao SAR, China\", \"Malaysia\", \"Mongolia\", \"New Zealand\", \"Philippines\", \"Republic of Ireland\", \"Republic of Korea\", \"Romania\", \"Russian Federation\", \"Singapore\", \"South Africa\", \"Spain\", \"Sweden\", \"Switzerland\", \"Taiwan, China\", \"Thailand\", \"United Kingdom\", \"United States\", \"Viet Nam\"], \"name\": \"\", \"parents\": [\"\", \"\", \"\", \"\", \"\", \"\", \"\", \"\", \"\", \"\", \"\", \"\", \"\", \"\", \"\", \"\", \"\", \"\", \"\", \"\", \"\", \"\", \"\", \"\", \"\", \"\", \"\", \"\", \"\", \"\", \"\"], \"type\": \"treemap\", \"values\": [1, 250, 5327, 1, 1, 7, 10, 1755, 3, 2, 4, 1, 1, 5, 9, 1, 14, 1, 3, 1, 1, 206, 1, 1, 3, 1, 671, 9, 4, 75, 63]}],\n",
              "                        {\"legend\": {\"tracegroupgap\": 0}, \"template\": {\"data\": {\"bar\": [{\"error_x\": {\"color\": \"#2a3f5f\"}, \"error_y\": {\"color\": \"#2a3f5f\"}, \"marker\": {\"line\": {\"color\": \"#E5ECF6\", \"width\": 0.5}}, \"type\": \"bar\"}], \"barpolar\": [{\"marker\": {\"line\": {\"color\": \"#E5ECF6\", \"width\": 0.5}}, \"type\": \"barpolar\"}], \"carpet\": [{\"aaxis\": {\"endlinecolor\": \"#2a3f5f\", \"gridcolor\": \"white\", \"linecolor\": \"white\", \"minorgridcolor\": \"white\", \"startlinecolor\": \"#2a3f5f\"}, \"baxis\": {\"endlinecolor\": \"#2a3f5f\", \"gridcolor\": \"white\", \"linecolor\": \"white\", \"minorgridcolor\": \"white\", \"startlinecolor\": \"#2a3f5f\"}, \"type\": \"carpet\"}], \"choropleth\": [{\"colorbar\": {\"outlinewidth\": 0, \"ticks\": \"\"}, \"type\": \"choropleth\"}], \"contour\": [{\"colorbar\": {\"outlinewidth\": 0, \"ticks\": \"\"}, \"colorscale\": [[0.0, \"#0d0887\"], [0.1111111111111111, \"#46039f\"], [0.2222222222222222, \"#7201a8\"], [0.3333333333333333, \"#9c179e\"], [0.4444444444444444, \"#bd3786\"], [0.5555555555555556, \"#d8576b\"], [0.6666666666666666, \"#ed7953\"], [0.7777777777777778, \"#fb9f3a\"], [0.8888888888888888, \"#fdca26\"], [1.0, \"#f0f921\"]], \"type\": \"contour\"}], \"contourcarpet\": [{\"colorbar\": {\"outlinewidth\": 0, \"ticks\": \"\"}, \"type\": \"contourcarpet\"}], \"heatmap\": [{\"colorbar\": {\"outlinewidth\": 0, \"ticks\": \"\"}, \"colorscale\": [[0.0, \"#0d0887\"], [0.1111111111111111, \"#46039f\"], [0.2222222222222222, \"#7201a8\"], [0.3333333333333333, \"#9c179e\"], [0.4444444444444444, \"#bd3786\"], [0.5555555555555556, \"#d8576b\"], [0.6666666666666666, \"#ed7953\"], [0.7777777777777778, \"#fb9f3a\"], [0.8888888888888888, \"#fdca26\"], [1.0, \"#f0f921\"]], \"type\": \"heatmap\"}], \"heatmapgl\": [{\"colorbar\": {\"outlinewidth\": 0, \"ticks\": \"\"}, \"colorscale\": [[0.0, \"#0d0887\"], [0.1111111111111111, \"#46039f\"], [0.2222222222222222, \"#7201a8\"], [0.3333333333333333, \"#9c179e\"], [0.4444444444444444, \"#bd3786\"], [0.5555555555555556, \"#d8576b\"], [0.6666666666666666, \"#ed7953\"], [0.7777777777777778, \"#fb9f3a\"], [0.8888888888888888, \"#fdca26\"], [1.0, \"#f0f921\"]], \"type\": \"heatmapgl\"}], \"histogram\": [{\"marker\": {\"colorbar\": {\"outlinewidth\": 0, \"ticks\": \"\"}}, \"type\": \"histogram\"}], \"histogram2d\": [{\"colorbar\": {\"outlinewidth\": 0, \"ticks\": \"\"}, \"colorscale\": [[0.0, \"#0d0887\"], [0.1111111111111111, \"#46039f\"], [0.2222222222222222, \"#7201a8\"], [0.3333333333333333, \"#9c179e\"], [0.4444444444444444, \"#bd3786\"], [0.5555555555555556, \"#d8576b\"], [0.6666666666666666, \"#ed7953\"], [0.7777777777777778, \"#fb9f3a\"], [0.8888888888888888, \"#fdca26\"], [1.0, \"#f0f921\"]], \"type\": \"histogram2d\"}], \"histogram2dcontour\": [{\"colorbar\": {\"outlinewidth\": 0, \"ticks\": \"\"}, \"colorscale\": [[0.0, \"#0d0887\"], [0.1111111111111111, \"#46039f\"], [0.2222222222222222, \"#7201a8\"], [0.3333333333333333, \"#9c179e\"], [0.4444444444444444, \"#bd3786\"], [0.5555555555555556, \"#d8576b\"], [0.6666666666666666, \"#ed7953\"], [0.7777777777777778, \"#fb9f3a\"], [0.8888888888888888, \"#fdca26\"], [1.0, \"#f0f921\"]], \"type\": \"histogram2dcontour\"}], \"mesh3d\": [{\"colorbar\": {\"outlinewidth\": 0, \"ticks\": \"\"}, \"type\": \"mesh3d\"}], \"parcoords\": [{\"line\": {\"colorbar\": {\"outlinewidth\": 0, \"ticks\": \"\"}}, \"type\": \"parcoords\"}], \"pie\": [{\"automargin\": true, \"type\": \"pie\"}], \"scatter\": [{\"marker\": {\"colorbar\": {\"outlinewidth\": 0, \"ticks\": \"\"}}, \"type\": \"scatter\"}], \"scatter3d\": [{\"line\": {\"colorbar\": {\"outlinewidth\": 0, \"ticks\": \"\"}}, \"marker\": {\"colorbar\": {\"outlinewidth\": 0, \"ticks\": \"\"}}, \"type\": \"scatter3d\"}], \"scattercarpet\": [{\"marker\": {\"colorbar\": {\"outlinewidth\": 0, \"ticks\": \"\"}}, \"type\": \"scattercarpet\"}], \"scattergeo\": [{\"marker\": {\"colorbar\": {\"outlinewidth\": 0, \"ticks\": \"\"}}, \"type\": \"scattergeo\"}], \"scattergl\": [{\"marker\": {\"colorbar\": {\"outlinewidth\": 0, \"ticks\": \"\"}}, \"type\": \"scattergl\"}], \"scattermapbox\": [{\"marker\": {\"colorbar\": {\"outlinewidth\": 0, \"ticks\": \"\"}}, \"type\": \"scattermapbox\"}], \"scatterpolar\": [{\"marker\": {\"colorbar\": {\"outlinewidth\": 0, \"ticks\": \"\"}}, \"type\": \"scatterpolar\"}], \"scatterpolargl\": [{\"marker\": {\"colorbar\": {\"outlinewidth\": 0, \"ticks\": \"\"}}, \"type\": \"scatterpolargl\"}], \"scatterternary\": [{\"marker\": {\"colorbar\": {\"outlinewidth\": 0, \"ticks\": \"\"}}, \"type\": \"scatterternary\"}], \"surface\": [{\"colorbar\": {\"outlinewidth\": 0, \"ticks\": \"\"}, \"colorscale\": [[0.0, \"#0d0887\"], [0.1111111111111111, \"#46039f\"], [0.2222222222222222, \"#7201a8\"], [0.3333333333333333, \"#9c179e\"], [0.4444444444444444, \"#bd3786\"], [0.5555555555555556, \"#d8576b\"], [0.6666666666666666, \"#ed7953\"], [0.7777777777777778, \"#fb9f3a\"], [0.8888888888888888, \"#fdca26\"], [1.0, \"#f0f921\"]], \"type\": \"surface\"}], \"table\": [{\"cells\": {\"fill\": {\"color\": \"#EBF0F8\"}, \"line\": {\"color\": \"white\"}}, \"header\": {\"fill\": {\"color\": \"#C8D4E3\"}, \"line\": {\"color\": \"white\"}}, \"type\": \"table\"}]}, \"layout\": {\"annotationdefaults\": {\"arrowcolor\": \"#2a3f5f\", \"arrowhead\": 0, \"arrowwidth\": 1}, \"coloraxis\": {\"colorbar\": {\"outlinewidth\": 0, \"ticks\": \"\"}}, \"colorscale\": {\"diverging\": [[0, \"#8e0152\"], [0.1, \"#c51b7d\"], [0.2, \"#de77ae\"], [0.3, \"#f1b6da\"], [0.4, \"#fde0ef\"], [0.5, \"#f7f7f7\"], [0.6, \"#e6f5d0\"], [0.7, \"#b8e186\"], [0.8, \"#7fbc41\"], [0.9, \"#4d9221\"], [1, \"#276419\"]], \"sequential\": [[0.0, \"#0d0887\"], [0.1111111111111111, \"#46039f\"], [0.2222222222222222, \"#7201a8\"], [0.3333333333333333, \"#9c179e\"], [0.4444444444444444, \"#bd3786\"], [0.5555555555555556, \"#d8576b\"], [0.6666666666666666, \"#ed7953\"], [0.7777777777777778, \"#fb9f3a\"], [0.8888888888888888, \"#fdca26\"], [1.0, \"#f0f921\"]], \"sequentialminus\": [[0.0, \"#0d0887\"], [0.1111111111111111, \"#46039f\"], [0.2222222222222222, \"#7201a8\"], [0.3333333333333333, \"#9c179e\"], [0.4444444444444444, \"#bd3786\"], [0.5555555555555556, \"#d8576b\"], [0.6666666666666666, \"#ed7953\"], [0.7777777777777778, \"#fb9f3a\"], [0.8888888888888888, \"#fdca26\"], [1.0, \"#f0f921\"]]}, \"colorway\": [\"#636efa\", \"#EF553B\", \"#00cc96\", \"#ab63fa\", \"#FFA15A\", \"#19d3f3\", \"#FF6692\", \"#B6E880\", \"#FF97FF\", \"#FECB52\"], \"font\": {\"color\": \"#2a3f5f\"}, \"geo\": {\"bgcolor\": \"white\", \"lakecolor\": \"white\", \"landcolor\": \"#E5ECF6\", \"showlakes\": true, \"showland\": true, \"subunitcolor\": \"white\"}, \"hoverlabel\": {\"align\": \"left\"}, \"hovermode\": \"closest\", \"mapbox\": {\"style\": \"light\"}, \"paper_bgcolor\": \"white\", \"plot_bgcolor\": \"#E5ECF6\", \"polar\": {\"angularaxis\": {\"gridcolor\": \"white\", \"linecolor\": \"white\", \"ticks\": \"\"}, \"bgcolor\": \"#E5ECF6\", \"radialaxis\": {\"gridcolor\": \"white\", \"linecolor\": \"white\", \"ticks\": \"\"}}, \"scene\": {\"xaxis\": {\"backgroundcolor\": \"#E5ECF6\", \"gridcolor\": \"white\", \"gridwidth\": 2, \"linecolor\": \"white\", \"showbackground\": true, \"ticks\": \"\", \"zerolinecolor\": \"white\"}, \"yaxis\": {\"backgroundcolor\": \"#E5ECF6\", \"gridcolor\": \"white\", \"gridwidth\": 2, \"linecolor\": \"white\", \"showbackground\": true, \"ticks\": \"\", \"zerolinecolor\": \"white\"}, \"zaxis\": {\"backgroundcolor\": \"#E5ECF6\", \"gridcolor\": \"white\", \"gridwidth\": 2, \"linecolor\": \"white\", \"showbackground\": true, \"ticks\": \"\", \"zerolinecolor\": \"white\"}}, \"shapedefaults\": {\"line\": {\"color\": \"#2a3f5f\"}}, \"ternary\": {\"aaxis\": {\"gridcolor\": \"white\", \"linecolor\": \"white\", \"ticks\": \"\"}, \"baxis\": {\"gridcolor\": \"white\", \"linecolor\": \"white\", \"ticks\": \"\"}, \"bgcolor\": \"#E5ECF6\", \"caxis\": {\"gridcolor\": \"white\", \"linecolor\": \"white\", \"ticks\": \"\"}}, \"title\": {\"x\": 0.05}, \"xaxis\": {\"automargin\": true, \"gridcolor\": \"white\", \"linecolor\": \"white\", \"ticks\": \"\", \"title\": {\"standoff\": 15}, \"zerolinecolor\": \"white\", \"zerolinewidth\": 2}, \"yaxis\": {\"automargin\": true, \"gridcolor\": \"white\", \"linecolor\": \"white\", \"ticks\": \"\", \"title\": {\"standoff\": 15}, \"zerolinecolor\": \"white\", \"zerolinewidth\": 2}}}, \"title\": {\"text\": \"Sars\"}, \"treemapcolorway\": [\"rgb(27,158,119)\", \"rgb(217,95,2)\", \"rgb(117,112,179)\", \"rgb(231,41,138)\", \"rgb(102,166,30)\", \"rgb(230,171,2)\", \"rgb(166,118,29)\", \"rgb(102,102,102)\"]},\n",
              "                        {\"responsive\": true}\n",
              "                    ).then(function(){\n",
              "                            \n",
              "var gd = document.getElementById('8b8f2fc4-d62c-45a2-b814-75ae3d54b3d3');\n",
              "var x = new MutationObserver(function (mutations, observer) {{\n",
              "        var display = window.getComputedStyle(gd).display;\n",
              "        if (!display || display === 'none') {{\n",
              "            console.log([gd, 'removed!']);\n",
              "            Plotly.purge(gd);\n",
              "            observer.disconnect();\n",
              "        }}\n",
              "}});\n",
              "\n",
              "// Listen for the removal of the full notebook cells\n",
              "var notebookContainer = gd.closest('#notebook-container');\n",
              "if (notebookContainer) {{\n",
              "    x.observe(notebookContainer, {childList: true});\n",
              "}}\n",
              "\n",
              "// Listen for the clearing of the current output cell\n",
              "var outputEl = gd.closest('.output');\n",
              "if (outputEl) {{\n",
              "    x.observe(outputEl, {childList: true});\n",
              "}}\n",
              "\n",
              "                        })\n",
              "                };\n",
              "                \n",
              "            </script>\n",
              "        </div>\n",
              "</body>\n",
              "</html>"
            ]
          },
          "metadata": {
            "tags": []
          }
        }
      ]
    },
    {
      "cell_type": "code",
      "metadata": {
        "id": "RhxhB9qh2HXL",
        "colab_type": "code",
        "colab": {}
      },
      "source": [
        ""
      ],
      "execution_count": null,
      "outputs": []
    }
  ]
}